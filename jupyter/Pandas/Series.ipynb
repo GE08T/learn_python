{
 "cells": [
  {
   "cell_type": "markdown",
   "id": "dd12a640",
   "metadata": {},
   "source": [
    "## Perbedaan Numpy Array dan Pandas Series "
   ]
  },
  {
   "cell_type": "code",
   "execution_count": 3,
   "id": "b6b63e3d",
   "metadata": {},
   "outputs": [],
   "source": [
    "import numpy as np\n",
    "import pandas as pd"
   ]
  },
  {
   "cell_type": "code",
   "execution_count": 4,
   "id": "21cd1d69",
   "metadata": {},
   "outputs": [],
   "source": [
    "label = ['satu','dua','tiga']"
   ]
  },
  {
   "cell_type": "code",
   "execution_count": 5,
   "id": "a0815a9c",
   "metadata": {},
   "outputs": [],
   "source": [
    "angka = [50,60,70]"
   ]
  },
  {
   "cell_type": "code",
   "execution_count": 6,
   "id": "d4350422",
   "metadata": {},
   "outputs": [],
   "source": [
    "np_angka = np.array(angka)"
   ]
  },
  {
   "cell_type": "code",
   "execution_count": 7,
   "id": "8693a89e",
   "metadata": {},
   "outputs": [
    {
     "data": {
      "text/plain": [
       "array([50, 60, 70])"
      ]
     },
     "execution_count": 7,
     "metadata": {},
     "output_type": "execute_result"
    }
   ],
   "source": [
    "np_angka"
   ]
  },
  {
   "cell_type": "code",
   "execution_count": 9,
   "id": "c75ad417",
   "metadata": {},
   "outputs": [],
   "source": [
    "d = {'satu':10,'dua':20,'tiga':30}"
   ]
  },
  {
   "cell_type": "code",
   "execution_count": 14,
   "id": "474d95e6",
   "metadata": {},
   "outputs": [],
   "source": [
    "#membuat series dari nol\n",
    "#bedanya ada index nya \n",
    "#index nya bisa di ubah\n",
    "dataku = pd.Series(data=angka, index=label)"
   ]
  },
  {
   "cell_type": "code",
   "execution_count": 15,
   "id": "f5e2d5d2",
   "metadata": {},
   "outputs": [
    {
     "data": {
      "text/plain": [
       "satu    50\n",
       "dua     60\n",
       "tiga    70\n",
       "dtype: int64"
      ]
     },
     "execution_count": 15,
     "metadata": {},
     "output_type": "execute_result"
    }
   ],
   "source": [
    "dataku"
   ]
  },
  {
   "cell_type": "code",
   "execution_count": 16,
   "id": "34532e86",
   "metadata": {},
   "outputs": [
    {
     "data": {
      "text/plain": [
       "50"
      ]
     },
     "execution_count": 16,
     "metadata": {},
     "output_type": "execute_result"
    }
   ],
   "source": [
    "dataku['satu']"
   ]
  },
  {
   "cell_type": "code",
   "execution_count": 18,
   "id": "6ee285c4",
   "metadata": {},
   "outputs": [
    {
     "data": {
      "text/plain": [
       "50"
      ]
     },
     "execution_count": 18,
     "metadata": {},
     "output_type": "execute_result"
    }
   ],
   "source": [
    "np_angka[0]"
   ]
  },
  {
   "cell_type": "code",
   "execution_count": 19,
   "id": "b0e69398",
   "metadata": {},
   "outputs": [
    {
     "data": {
      "text/plain": [
       "satu    10\n",
       "dua     20\n",
       "tiga    30\n",
       "dtype: int64"
      ]
     },
     "execution_count": 19,
     "metadata": {},
     "output_type": "execute_result"
    }
   ],
   "source": [
    "pd.Series(d) #bisa lewat dictionary"
   ]
  },
  {
   "cell_type": "code",
   "execution_count": 20,
   "id": "471d2f5f",
   "metadata": {},
   "outputs": [
    {
     "data": {
      "text/plain": [
       "0    50\n",
       "1    60\n",
       "2    70\n",
       "dtype: int32"
      ]
     },
     "execution_count": 20,
     "metadata": {},
     "output_type": "execute_result"
    }
   ],
   "source": [
    "pd.Series(np_angka) #lewat array \n",
    "#bedanya hanya di ukuran int nya"
   ]
  },
  {
   "cell_type": "code",
   "execution_count": 21,
   "id": "00321cfa",
   "metadata": {},
   "outputs": [],
   "source": [
    "#mengubah data series ke data frame\n",
    "data_frame = dataku.to_frame()"
   ]
  },
  {
   "cell_type": "code",
   "execution_count": 22,
   "id": "287d8753",
   "metadata": {},
   "outputs": [
    {
     "data": {
      "text/html": [
       "<div>\n",
       "<style scoped>\n",
       "    .dataframe tbody tr th:only-of-type {\n",
       "        vertical-align: middle;\n",
       "    }\n",
       "\n",
       "    .dataframe tbody tr th {\n",
       "        vertical-align: top;\n",
       "    }\n",
       "\n",
       "    .dataframe thead th {\n",
       "        text-align: right;\n",
       "    }\n",
       "</style>\n",
       "<table border=\"1\" class=\"dataframe\">\n",
       "  <thead>\n",
       "    <tr style=\"text-align: right;\">\n",
       "      <th></th>\n",
       "      <th>0</th>\n",
       "    </tr>\n",
       "  </thead>\n",
       "  <tbody>\n",
       "    <tr>\n",
       "      <th>satu</th>\n",
       "      <td>50</td>\n",
       "    </tr>\n",
       "    <tr>\n",
       "      <th>dua</th>\n",
       "      <td>60</td>\n",
       "    </tr>\n",
       "    <tr>\n",
       "      <th>tiga</th>\n",
       "      <td>70</td>\n",
       "    </tr>\n",
       "  </tbody>\n",
       "</table>\n",
       "</div>"
      ],
      "text/plain": [
       "       0\n",
       "satu  50\n",
       "dua   60\n",
       "tiga  70"
      ]
     },
     "execution_count": 22,
     "metadata": {},
     "output_type": "execute_result"
    }
   ],
   "source": [
    "data_frame"
   ]
  },
  {
   "cell_type": "code",
   "execution_count": 23,
   "id": "0f9d13e3",
   "metadata": {},
   "outputs": [],
   "source": [
    "d2 = {'satu':10,'dua':20,'tiga':30,'empat':40,'lima':50}"
   ]
  },
  {
   "cell_type": "code",
   "execution_count": 24,
   "id": "dda30a44",
   "metadata": {},
   "outputs": [],
   "source": [
    "dataku = pd.Series(d)"
   ]
  },
  {
   "cell_type": "code",
   "execution_count": 25,
   "id": "e7ddb30e",
   "metadata": {},
   "outputs": [],
   "source": [
    "dataku2 = pd.Series(d2)"
   ]
  },
  {
   "cell_type": "code",
   "execution_count": 29,
   "id": "768a6935",
   "metadata": {},
   "outputs": [
    {
     "data": {
      "text/plain": [
       "dua      40.0\n",
       "empat     NaN\n",
       "lima      NaN\n",
       "satu     20.0\n",
       "tiga     60.0\n",
       "dtype: float64"
      ]
     },
     "execution_count": 29,
     "metadata": {},
     "output_type": "execute_result"
    }
   ],
   "source": [
    "#index yang sama akan di jumlahkan\n",
    "#index yang tidak sama akan berubah menjadi NaN\n",
    "#hasil penjumlahan nya akan otomatis berubah ke float\n",
    "dataku + dataku2"
   ]
  },
  {
   "cell_type": "code",
   "execution_count": null,
   "id": "736372d3",
   "metadata": {},
   "outputs": [],
   "source": []
  }
 ],
 "metadata": {
  "kernelspec": {
   "display_name": "Python 3 (ipykernel)",
   "language": "python",
   "name": "python3"
  },
  "language_info": {
   "codemirror_mode": {
    "name": "ipython",
    "version": 3
   },
   "file_extension": ".py",
   "mimetype": "text/x-python",
   "name": "python",
   "nbconvert_exporter": "python",
   "pygments_lexer": "ipython3",
   "version": "3.9.13"
  }
 },
 "nbformat": 4,
 "nbformat_minor": 5
}
