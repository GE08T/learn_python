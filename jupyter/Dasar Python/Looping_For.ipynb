{
 "cells": [
  {
   "cell_type": "markdown",
   "id": "cbe3f4e5",
   "metadata": {},
   "source": [
    "### For Loops \n"
   ]
  },
  {
   "cell_type": "markdown",
   "id": "447688da",
   "metadata": {},
   "source": [
    "#### digunakan untuk mengiterasi objek\n",
    "#### hampir semua objek bisa di iterasi di python"
   ]
  },
  {
   "cell_type": "code",
   "execution_count": 4,
   "id": "4edc8ec5",
   "metadata": {},
   "outputs": [
    {
     "name": "stdout",
     "output_type": "stream",
     "text": [
      "k a m u   m a k a n n y a   a p a ? "
     ]
    }
   ],
   "source": [
    "for g in 'kamu makannya apa?': #iterasi string\n",
    "    print(g, end=' ') #mengganti akhir baris iterasi menjadi space"
   ]
  },
  {
   "cell_type": "code",
   "execution_count": 10,
   "id": "54b1ad7d",
   "metadata": {},
   "outputs": [],
   "source": [
    "angka = [1,2,3,4,5,6,7,8,9,10]"
   ]
  },
  {
   "cell_type": "code",
   "execution_count": 12,
   "id": "061e0218",
   "metadata": {},
   "outputs": [
    {
     "name": "stdout",
     "output_type": "stream",
     "text": [
      "1\n",
      "2\n",
      "3\n",
      "4\n",
      "5\n",
      "6\n",
      "7\n",
      "8\n",
      "9\n",
      "10\n"
     ]
    }
   ],
   "source": [
    "for s in angka:\n",
    "    print(s)"
   ]
  },
  {
   "cell_type": "code",
   "execution_count": 17,
   "id": "6b314001",
   "metadata": {},
   "outputs": [],
   "source": [
    "jumlah = 0"
   ]
  },
  {
   "cell_type": "code",
   "execution_count": 18,
   "id": "c0341112",
   "metadata": {
    "scrolled": true
   },
   "outputs": [
    {
     "name": "stdout",
     "output_type": "stream",
     "text": [
      "Hasil penjumlahan pada iterator ke-1 adalah 1 \n",
      "Hasil penjumlahan pada iterator ke-2 adalah 3 \n",
      "Hasil penjumlahan pada iterator ke-3 adalah 6 \n",
      "Hasil penjumlahan pada iterator ke-4 adalah 10 \n",
      "Hasil penjumlahan pada iterator ke-5 adalah 15 \n",
      "Hasil penjumlahan pada iterator ke-6 adalah 21 \n",
      "Hasil penjumlahan pada iterator ke-7 adalah 28 \n",
      "Hasil penjumlahan pada iterator ke-8 adalah 36 \n",
      "Hasil penjumlahan pada iterator ke-9 adalah 45 \n",
      "Hasil penjumlahan pada iterator ke-10 adalah 55 \n"
     ]
    }
   ],
   "source": [
    "for s in angka :\n",
    "    jumlah = jumlah + s\n",
    "    print('Hasil penjumlahan pada iterator ke-{} adalah {} '. format(s,jumlah))"
   ]
  },
  {
   "cell_type": "markdown",
   "id": "d0009914",
   "metadata": {},
   "source": [
    "### Penggunaan for loop dan conditionals"
   ]
  },
  {
   "cell_type": "code",
   "execution_count": 34,
   "id": "590db329",
   "metadata": {},
   "outputs": [
    {
     "name": "stdout",
     "output_type": "stream",
     "text": [
      "anda berada di a  1\n",
      "anda berada di a  4\n",
      "anda berada di a  6\n",
      "anda berada di a  8\n",
      "anda berada di a  10\n",
      "anda berada di a  17\n",
      "anda berada di a  22\n",
      "anda berada di a  27\n",
      "anda berada di a  29\n",
      "anda berada di a  34\n"
     ]
    }
   ],
   "source": [
    "jumlah = 0\n",
    "for item in 'anda adalah sesuatu yang saya suka':\n",
    "    jumlah += 1\n",
    "    if (item == 'a'):\n",
    "        print('anda berada di a ', jumlah)"
   ]
  },
  {
   "cell_type": "markdown",
   "id": "32c7b117",
   "metadata": {},
   "source": [
    "### Tantangan \n",
    "#### lakukan iterasi angka = [1,2,3,4,5,6,7,8,9,10]\n",
    "#### untuk menentukan ganjil dan genap"
   ]
  },
  {
   "cell_type": "code",
   "execution_count": 35,
   "id": "0cfcd271",
   "metadata": {},
   "outputs": [],
   "source": [
    "jumlah = 0"
   ]
  },
  {
   "cell_type": "code",
   "execution_count": 36,
   "id": "995ceb1f",
   "metadata": {},
   "outputs": [],
   "source": [
    "angka2 = [1,2,3,4,5,6,7,8,9,10]"
   ]
  },
  {
   "cell_type": "code",
   "execution_count": 46,
   "id": "55beffe4",
   "metadata": {},
   "outputs": [
    {
     "name": "stdout",
     "output_type": "stream",
     "text": [
      "Angka 1 Adalah Ganjil\n",
      "Angka 2 Adalah Genap\n",
      "Angka 3 Adalah Ganjil\n",
      "Angka 4 Adalah Genap\n",
      "Angka 5 Adalah Ganjil\n",
      "Angka 6 Adalah Genap\n",
      "Angka 7 Adalah Ganjil\n",
      "Angka 8 Adalah Genap\n",
      "Angka 9 Adalah Ganjil\n",
      "Angka 10 Adalah Genap\n"
     ]
    }
   ],
   "source": [
    "for i in angka2:\n",
    "    if (i % 2 == 0):\n",
    "        print('Angka',i,'Adalah Genap'.format(i)) #menjeda dengan koma karena bukan string\n",
    "    else :\n",
    "        print('Angka '+str(i)+' Adalah Ganjil'.format(i)) #diformat kedalam string harus ada spasi"
   ]
  },
  {
   "cell_type": "markdown",
   "id": "2defff10",
   "metadata": {},
   "source": [
    "### for loops didalam tuple dan list yang berbeda tipe data"
   ]
  },
  {
   "cell_type": "code",
   "execution_count": 48,
   "id": "7b744b71",
   "metadata": {},
   "outputs": [],
   "source": [
    "tuple1 = (1,2,3,4,5,6,7,8,9,10)"
   ]
  },
  {
   "cell_type": "code",
   "execution_count": 50,
   "id": "11ecc2f9",
   "metadata": {},
   "outputs": [
    {
     "name": "stdout",
     "output_type": "stream",
     "text": [
      "1\n",
      "2\n",
      "3\n",
      "4\n",
      "5\n",
      "6\n",
      "7\n",
      "8\n",
      "9\n",
      "10\n"
     ]
    }
   ],
   "source": [
    "for item in tuple1:\n",
    "    print(item)"
   ]
  },
  {
   "cell_type": "code",
   "execution_count": 51,
   "id": "63f64041",
   "metadata": {},
   "outputs": [],
   "source": [
    "list1 = ['ini', 2, 9.5]"
   ]
  },
  {
   "cell_type": "code",
   "execution_count": 52,
   "id": "d85ef00b",
   "metadata": {},
   "outputs": [
    {
     "name": "stdout",
     "output_type": "stream",
     "text": [
      "ini\n",
      "2\n",
      "9.5\n"
     ]
    }
   ],
   "source": [
    "for item in list1:\n",
    "    print(item)"
   ]
  },
  {
   "cell_type": "code",
   "execution_count": 54,
   "id": "33e6aff3",
   "metadata": {},
   "outputs": [],
   "source": [
    "#bisa memecah tuple \n",
    "tuple2 = ((1,2),(3,4),(5,6))"
   ]
  },
  {
   "cell_type": "code",
   "execution_count": 59,
   "id": "0af0d2ca",
   "metadata": {},
   "outputs": [
    {
     "name": "stdout",
     "output_type": "stream",
     "text": [
      "1 2\n",
      "3 4\n",
      "5 6\n"
     ]
    }
   ],
   "source": [
    "for a,b in tuple2: #di misalkan a,b adalah item yang ada didalam index ke (0,1,2) di tuple\n",
    "    print(a,b)"
   ]
  },
  {
   "cell_type": "code",
   "execution_count": 62,
   "id": "8193eb89",
   "metadata": {},
   "outputs": [],
   "source": [
    "list2 = [['a', 1, 1.5],['b', 2, 2.5],['c', 3, 3.5]]"
   ]
  },
  {
   "cell_type": "code",
   "execution_count": 66,
   "id": "39d64644",
   "metadata": {},
   "outputs": [
    {
     "name": "stdout",
     "output_type": "stream",
     "text": [
      "1.5\n",
      "2.5\n",
      "3.5\n"
     ]
    }
   ],
   "source": [
    "for a,b,c in list2: #a,b,c harus sama dengan indek di list\n",
    "    print(c) #bisa dipanggil terserah a,b,c"
   ]
  },
  {
   "cell_type": "code",
   "execution_count": null,
   "id": "dcd7c707",
   "metadata": {},
   "outputs": [],
   "source": []
  }
 ],
 "metadata": {
  "kernelspec": {
   "display_name": "Python 3 (ipykernel)",
   "language": "python",
   "name": "python3"
  },
  "language_info": {
   "codemirror_mode": {
    "name": "ipython",
    "version": 3
   },
   "file_extension": ".py",
   "mimetype": "text/x-python",
   "name": "python",
   "nbconvert_exporter": "python",
   "pygments_lexer": "ipython3",
   "version": "3.9.13"
  }
 },
 "nbformat": 4,
 "nbformat_minor": 5
}
