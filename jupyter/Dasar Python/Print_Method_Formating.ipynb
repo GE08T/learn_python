{
 "cells": [
  {
   "cell_type": "markdown",
   "id": "88022b21",
   "metadata": {},
   "source": [
    "## Print Method dan Formating di Python"
   ]
  },
  {
   "cell_type": "code",
   "execution_count": 1,
   "id": "b2886828",
   "metadata": {},
   "outputs": [],
   "source": [
    "var1 = 'apakah aku harus memilih meninggalkan engkau karena nasibku'"
   ]
  },
  {
   "cell_type": "code",
   "execution_count": 2,
   "id": "1cda185d",
   "metadata": {},
   "outputs": [
    {
     "name": "stdout",
     "output_type": "stream",
     "text": [
      "apakah aku harus memilih meninggalkan engkau karena nasibku\n"
     ]
    }
   ],
   "source": [
    "print(var1)"
   ]
  },
  {
   "cell_type": "code",
   "execution_count": 3,
   "id": "fa9cadb1",
   "metadata": {},
   "outputs": [
    {
     "name": "stdout",
     "output_type": "stream",
     "text": [
      "in ada 10 buah anggur\n"
     ]
    }
   ],
   "source": [
    "print('in ada {} buah anggur'.format('10')) "
   ]
  },
  {
   "cell_type": "code",
   "execution_count": 6,
   "id": "79ba9018",
   "metadata": {},
   "outputs": [
    {
     "name": "stdout",
     "output_type": "stream",
     "text": [
      "urutan pemenang lomba PLC ialah Joseph Jonathan Jolyne\n"
     ]
    }
   ],
   "source": [
    "#agar lebih memudahkan ketika menggunakan banyak isian\n",
    "print('Urutan pemenang lomba PLC ialah {} {} {}'.format('Joseph', 'Jonathan', 'Jolyne'))"
   ]
  },
  {
   "cell_type": "code",
   "execution_count": 8,
   "id": "c00843b1",
   "metadata": {},
   "outputs": [
    {
     "name": "stdout",
     "output_type": "stream",
     "text": [
      "Urutan pemenang lomba PLC ialah Jonathan Joseph Jolyne\n"
     ]
    }
   ],
   "source": [
    "print('Urutan pemenang lomba PLC ialah {1} {0} {2}'.format('Joseph', 'Jonathan', 'Jolyne'))"
   ]
  },
  {
   "cell_type": "code",
   "execution_count": 9,
   "id": "2e8b4fd6",
   "metadata": {},
   "outputs": [
    {
     "name": "stdout",
     "output_type": "stream",
     "text": [
      "Urutan pemenang lomba PLC ialah Joseph Jolyne Jonathan\n"
     ]
    }
   ],
   "source": [
    "print('Urutan pemenang lomba PLC ialah {a} {c} {b}'.format(a = 'Joseph', b = 'Jonathan', c = 'Jolyne'))\n",
    "# dapat dengan assignment variable"
   ]
  },
  {
   "cell_type": "markdown",
   "id": "af66530f",
   "metadata": {},
   "source": [
    "#### Contoh Matiknya"
   ]
  },
  {
   "cell_type": "code",
   "execution_count": 13,
   "id": "a306acf4",
   "metadata": {},
   "outputs": [],
   "source": [
    "luas1 = 66.7"
   ]
  },
  {
   "cell_type": "code",
   "execution_count": 14,
   "id": "134d8f98",
   "metadata": {},
   "outputs": [],
   "source": [
    "luas2 = 99.6"
   ]
  },
  {
   "cell_type": "markdown",
   "id": "3634709e",
   "metadata": {},
   "source": [
    "#### Format Penulisan untuk method print {nilai:lebar.tingka_presisi f}"
   ]
  },
  {
   "cell_type": "code",
   "execution_count": 19,
   "id": "10570b61",
   "metadata": {
    "scrolled": true
   },
   "outputs": [
    {
     "name": "stdout",
     "output_type": "stream",
     "text": [
      "Luas tanah yang dimiliki pak Budi adalah 66.7 99.6\n"
     ]
    }
   ],
   "source": [
    "print('Luas tanah yang dimiliki pak Budi adalah {a} {b}'.format(a = luas1, b = luas2))"
   ]
  },
  {
   "cell_type": "code",
   "execution_count": 20,
   "id": "8650e08e",
   "metadata": {},
   "outputs": [
    {
     "name": "stdout",
     "output_type": "stream",
     "text": [
      "Luas tanah yang dimiliki pak Budi adalah   66.700 99.60\n"
     ]
    }
   ],
   "source": [
    "print('Luas tanah yang dimiliki pak Budi adalah {a:8.3f} {b:5.2f}'.format(a = luas1, b = luas2))"
   ]
  },
  {
   "cell_type": "code",
   "execution_count": 24,
   "id": "504d4afe",
   "metadata": {},
   "outputs": [
    {
     "name": "stdout",
     "output_type": "stream",
     "text": [
      "Luas tanah yang dimiliki pak Budi adalah 66.700000 99.60000\n"
     ]
    }
   ],
   "source": [
    "print('Luas tanah yang dimiliki pak Budi adalah {a:3.6f} {b:2.5f}'.format(a = luas1, b = luas2))"
   ]
  },
  {
   "cell_type": "code",
   "execution_count": null,
   "id": "cf689626",
   "metadata": {},
   "outputs": [],
   "source": []
  }
 ],
 "metadata": {
  "kernelspec": {
   "display_name": "Python 3 (ipykernel)",
   "language": "python",
   "name": "python3"
  },
  "language_info": {
   "codemirror_mode": {
    "name": "ipython",
    "version": 3
   },
   "file_extension": ".py",
   "mimetype": "text/x-python",
   "name": "python",
   "nbconvert_exporter": "python",
   "pygments_lexer": "ipython3",
   "version": "3.9.13"
  }
 },
 "nbformat": 4,
 "nbformat_minor": 5
}
