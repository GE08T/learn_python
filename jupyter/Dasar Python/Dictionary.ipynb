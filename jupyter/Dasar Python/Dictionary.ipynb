{
 "cells": [
  {
   "cell_type": "markdown",
   "id": "64c95b02",
   "metadata": {},
   "source": [
    "### Dictionary"
   ]
  },
  {
   "cell_type": "markdown",
   "id": "fb43d217",
   "metadata": {},
   "source": [
    "#### ialah tipe data yang mirip list\n",
    "#### tidak memiliki urutan\n",
    "#### pengambilan data menggunakan key\n",
    "#### bisa di nested"
   ]
  },
  {
   "cell_type": "code",
   "execution_count": 10,
   "id": "78c31902",
   "metadata": {},
   "outputs": [],
   "source": [
    "#contoh penulisan\n",
    "dict1 = {'k1':'kerbau','k2':'ular','k3':'macan',}"
   ]
  },
  {
   "cell_type": "code",
   "execution_count": 11,
   "id": "01d37be5",
   "metadata": {},
   "outputs": [
    {
     "data": {
      "text/plain": [
       "{'k1': 'kerbau', 'k2': 'ular', 'k3': 'macan'}"
      ]
     },
     "execution_count": 11,
     "metadata": {},
     "output_type": "execute_result"
    }
   ],
   "source": [
    "dict1"
   ]
  },
  {
   "cell_type": "code",
   "execution_count": 14,
   "id": "b1f58d2c",
   "metadata": {},
   "outputs": [
    {
     "data": {
      "text/plain": [
       "'macan'"
      ]
     },
     "execution_count": 14,
     "metadata": {},
     "output_type": "execute_result"
    }
   ],
   "source": [
    "dict1['k3']"
   ]
  },
  {
   "cell_type": "markdown",
   "id": "34196958",
   "metadata": {},
   "source": [
    "### Biasanya dictionary digunakan untuk database"
   ]
  },
  {
   "cell_type": "code",
   "execution_count": 15,
   "id": "9e727c0e",
   "metadata": {},
   "outputs": [],
   "source": [
    "mobil = {'kijang': 300, 'chevrolet': 900, 'supra':1}"
   ]
  },
  {
   "cell_type": "code",
   "execution_count": 16,
   "id": "d4333496",
   "metadata": {},
   "outputs": [
    {
     "data": {
      "text/plain": [
       "1"
      ]
     },
     "execution_count": 16,
     "metadata": {},
     "output_type": "execute_result"
    }
   ],
   "source": [
    "mobil['supra']"
   ]
  },
  {
   "cell_type": "code",
   "execution_count": 22,
   "id": "ab55c943",
   "metadata": {},
   "outputs": [],
   "source": [
    "campur = {'k1': 'ayam', 'k2': 20, 'k3': 20.5, 'k4': ['a', 3.2, 2], 'k5': {'k6': 'madu', 'k7': 'bunga'}}"
   ]
  },
  {
   "cell_type": "code",
   "execution_count": 23,
   "id": "edd4d1e8",
   "metadata": {},
   "outputs": [
    {
     "data": {
      "text/plain": [
       "{'k1': 'ayam',\n",
       " 'k2': 20,\n",
       " 'k3': 20.5,\n",
       " 'k4': ['a', 3.2, 2],\n",
       " 'k5': {'k6': 'madu', 'k7': 'bunga'}}"
      ]
     },
     "execution_count": 23,
     "metadata": {},
     "output_type": "execute_result"
    }
   ],
   "source": [
    "campur"
   ]
  },
  {
   "cell_type": "code",
   "execution_count": 25,
   "id": "39338ea3",
   "metadata": {},
   "outputs": [
    {
     "data": {
      "text/plain": [
       "'bunga'"
      ]
     },
     "execution_count": 25,
     "metadata": {},
     "output_type": "execute_result"
    }
   ],
   "source": [
    "campur['k5']['k7'] #memanggil bunga"
   ]
  },
  {
   "cell_type": "code",
   "execution_count": 26,
   "id": "a93c3a45",
   "metadata": {},
   "outputs": [],
   "source": [
    "campur['k4'] = ['aku', 'kamu', 'kita'] #mengganti value"
   ]
  },
  {
   "cell_type": "code",
   "execution_count": 27,
   "id": "441cca5e",
   "metadata": {},
   "outputs": [
    {
     "data": {
      "text/plain": [
       "{'k1': 'ayam',\n",
       " 'k2': 20,\n",
       " 'k3': 20.5,\n",
       " 'k4': ['aku', 'kamu', 'kita'],\n",
       " 'k5': {'k6': 'madu', 'k7': 'bunga'}}"
      ]
     },
     "execution_count": 27,
     "metadata": {},
     "output_type": "execute_result"
    }
   ],
   "source": [
    "campur"
   ]
  },
  {
   "cell_type": "code",
   "execution_count": 28,
   "id": "a63d1b2e",
   "metadata": {},
   "outputs": [
    {
     "data": {
      "text/plain": [
       "dict_keys(['k1', 'k2', 'k3', 'k4', 'k5'])"
      ]
     },
     "execution_count": 28,
     "metadata": {},
     "output_type": "execute_result"
    }
   ],
   "source": [
    "campur.keys() #mendapatkan semua key"
   ]
  },
  {
   "cell_type": "code",
   "execution_count": 29,
   "id": "2fa27ecd",
   "metadata": {},
   "outputs": [
    {
     "data": {
      "text/plain": [
       "dict_values(['ayam', 20, 20.5, ['aku', 'kamu', 'kita'], {'k6': 'madu', 'k7': 'bunga'}])"
      ]
     },
     "execution_count": 29,
     "metadata": {},
     "output_type": "execute_result"
    }
   ],
   "source": [
    "campur.values() #mendapatkan semua value"
   ]
  },
  {
   "cell_type": "code",
   "execution_count": 30,
   "id": "35acf3ef",
   "metadata": {},
   "outputs": [
    {
     "data": {
      "text/plain": [
       "dict_items([('k1', 'ayam'), ('k2', 20), ('k3', 20.5), ('k4', ['aku', 'kamu', 'kita']), ('k5', {'k6': 'madu', 'k7': 'bunga'})])"
      ]
     },
     "execution_count": 30,
     "metadata": {},
     "output_type": "execute_result"
    }
   ],
   "source": [
    "campur.items() #mendapatkan semua key dan value "
   ]
  },
  {
   "cell_type": "markdown",
   "id": "042a63f9",
   "metadata": {},
   "source": [
    "### challenge mengubah bunga menjadi kapital"
   ]
  },
  {
   "cell_type": "code",
   "execution_count": 31,
   "id": "b49988f8",
   "metadata": {},
   "outputs": [
    {
     "data": {
      "text/plain": [
       "'bunga'"
      ]
     },
     "execution_count": 31,
     "metadata": {},
     "output_type": "execute_result"
    }
   ],
   "source": [
    "campur['k5']['k7'] "
   ]
  },
  {
   "cell_type": "code",
   "execution_count": 38,
   "id": "49ad2eb2",
   "metadata": {},
   "outputs": [],
   "source": [
    "besar = campur['k5']['k7'] "
   ]
  },
  {
   "cell_type": "code",
   "execution_count": 39,
   "id": "744d9ac4",
   "metadata": {},
   "outputs": [
    {
     "data": {
      "text/plain": [
       "'BUNGA'"
      ]
     },
     "execution_count": 39,
     "metadata": {},
     "output_type": "execute_result"
    }
   ],
   "source": [
    "besar.upper()"
   ]
  },
  {
   "cell_type": "code",
   "execution_count": 40,
   "id": "d6948715",
   "metadata": {},
   "outputs": [],
   "source": [
    "besar = besar.upper()"
   ]
  },
  {
   "cell_type": "code",
   "execution_count": 41,
   "id": "774f0c4b",
   "metadata": {},
   "outputs": [
    {
     "data": {
      "text/plain": [
       "'BUNGA'"
      ]
     },
     "execution_count": 41,
     "metadata": {},
     "output_type": "execute_result"
    }
   ],
   "source": [
    "besar"
   ]
  },
  {
   "cell_type": "code",
   "execution_count": 42,
   "id": "eb777780",
   "metadata": {},
   "outputs": [],
   "source": [
    "besar2 = campur['k5']['k7'].upper() #cara cepat"
   ]
  },
  {
   "cell_type": "code",
   "execution_count": 43,
   "id": "8e360ceb",
   "metadata": {},
   "outputs": [
    {
     "data": {
      "text/plain": [
       "'BUNGA'"
      ]
     },
     "execution_count": 43,
     "metadata": {},
     "output_type": "execute_result"
    }
   ],
   "source": [
    "besar2"
   ]
  },
  {
   "cell_type": "code",
   "execution_count": null,
   "id": "5cc00826",
   "metadata": {},
   "outputs": [],
   "source": []
  }
 ],
 "metadata": {
  "kernelspec": {
   "display_name": "Python 3 (ipykernel)",
   "language": "python",
   "name": "python3"
  },
  "language_info": {
   "codemirror_mode": {
    "name": "ipython",
    "version": 3
   },
   "file_extension": ".py",
   "mimetype": "text/x-python",
   "name": "python",
   "nbconvert_exporter": "python",
   "pygments_lexer": "ipython3",
   "version": "3.9.13"
  }
 },
 "nbformat": 4,
 "nbformat_minor": 5
}
