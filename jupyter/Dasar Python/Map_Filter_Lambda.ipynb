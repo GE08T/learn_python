{
 "cells": [
  {
   "cell_type": "markdown",
   "id": "b54de37f",
   "metadata": {},
   "source": [
    "### Map Filter Lambda"
   ]
  },
  {
   "cell_type": "markdown",
   "id": "37feafdc",
   "metadata": {},
   "source": [
    "Map membutuh kan 2 parameter didalam nya \n",
    "parameter pertama digunakan untuk fungsi\n",
    "parameter kedua di gunakan untuk iterable "
   ]
  },
  {
   "cell_type": "code",
   "execution_count": 22,
   "id": "c6472050",
   "metadata": {},
   "outputs": [],
   "source": [
    "#contoh fungsi \n",
    "def kali10(num):\n",
    "    return num*10"
   ]
  },
  {
   "cell_type": "code",
   "execution_count": 23,
   "id": "a24f42e5",
   "metadata": {},
   "outputs": [
    {
     "data": {
      "text/plain": [
       "80"
      ]
     },
     "execution_count": 23,
     "metadata": {},
     "output_type": "execute_result"
    }
   ],
   "source": [
    "kali10(8)"
   ]
  },
  {
   "cell_type": "code",
   "execution_count": 24,
   "id": "3db6c597",
   "metadata": {},
   "outputs": [],
   "source": [
    "angka = [4,9,5]"
   ]
  },
  {
   "cell_type": "code",
   "execution_count": 25,
   "id": "4953a00e",
   "metadata": {},
   "outputs": [
    {
     "name": "stdout",
     "output_type": "stream",
     "text": [
      "40\n",
      "90\n",
      "50\n"
     ]
    }
   ],
   "source": [
    "for item in map(kali10,angka):\n",
    "    print(item)"
   ]
  },
  {
   "cell_type": "code",
   "execution_count": 26,
   "id": "58726101",
   "metadata": {},
   "outputs": [],
   "source": [
    "hasil = list(map(kali10,angka)) #contoh pada list"
   ]
  },
  {
   "cell_type": "code",
   "execution_count": 27,
   "id": "c846e434",
   "metadata": {},
   "outputs": [
    {
     "data": {
      "text/plain": [
       "[40, 90, 50]"
      ]
     },
     "execution_count": 27,
     "metadata": {},
     "output_type": "execute_result"
    }
   ],
   "source": [
    "hasil"
   ]
  },
  {
   "cell_type": "code",
   "execution_count": 28,
   "id": "cdd853dd",
   "metadata": {},
   "outputs": [],
   "source": [
    "angka2 = (6,73,2)"
   ]
  },
  {
   "cell_type": "code",
   "execution_count": 29,
   "id": "b67a675a",
   "metadata": {},
   "outputs": [],
   "source": [
    "hasil2 = tuple(map(kali10,angka2)) #contoh pada tuple"
   ]
  },
  {
   "cell_type": "code",
   "execution_count": 30,
   "id": "807be2d1",
   "metadata": {},
   "outputs": [
    {
     "data": {
      "text/plain": [
       "(60, 730, 20)"
      ]
     },
     "execution_count": 30,
     "metadata": {},
     "output_type": "execute_result"
    }
   ],
   "source": [
    "hasil2"
   ]
  },
  {
   "cell_type": "code",
   "execution_count": 13,
   "id": "762a42b4",
   "metadata": {},
   "outputs": [],
   "source": [
    "def jumlah_kata(kata):\n",
    "    if len(kata) % 2 == 0:\n",
    "        return 'Genap'\n",
    "    else:\n",
    "        return 'Ganjil'"
   ]
  },
  {
   "cell_type": "code",
   "execution_count": 14,
   "id": "837d86d2",
   "metadata": {},
   "outputs": [
    {
     "data": {
      "text/plain": [
       "'Genap'"
      ]
     },
     "execution_count": 14,
     "metadata": {},
     "output_type": "execute_result"
    }
   ],
   "source": [
    "jumlah_kata('aksdnfhopsabhdfo')"
   ]
  },
  {
   "cell_type": "code",
   "execution_count": 20,
   "id": "9885f0f6",
   "metadata": {},
   "outputs": [],
   "source": [
    "listkata = ['klsfdpotyeasjho','slkdphyfoash','oaishssfdfoiahn']"
   ]
  },
  {
   "cell_type": "code",
   "execution_count": 21,
   "id": "51620a1b",
   "metadata": {},
   "outputs": [
    {
     "data": {
      "text/plain": [
       "['Ganjil', 'Genap', 'Ganjil']"
      ]
     },
     "execution_count": 21,
     "metadata": {},
     "output_type": "execute_result"
    }
   ],
   "source": [
    "list(map(jumlah_kata,listkata))"
   ]
  },
  {
   "cell_type": "markdown",
   "id": "f41b8a33",
   "metadata": {},
   "source": [
    "### Filter"
   ]
  },
  {
   "cell_type": "markdown",
   "id": "6e2f9f0d",
   "metadata": {},
   "source": [
    "filter memerlukan 2 parameter\n",
    "1. parameter pertama bisa function / tidak ada sama sekali\n",
    "2. parameter kedua di isi iterable nya"
   ]
  },
  {
   "cell_type": "code",
   "execution_count": 31,
   "id": "d32249ff",
   "metadata": {},
   "outputs": [],
   "source": [
    "def cek_genap(num):\n",
    "    return num % 2 == 0"
   ]
  },
  {
   "cell_type": "code",
   "execution_count": 32,
   "id": "fa8e75d9",
   "metadata": {},
   "outputs": [
    {
     "data": {
      "text/plain": [
       "False"
      ]
     },
     "execution_count": 32,
     "metadata": {},
     "output_type": "execute_result"
    }
   ],
   "source": [
    "cek_genap(9)"
   ]
  },
  {
   "cell_type": "code",
   "execution_count": 33,
   "id": "29432d22",
   "metadata": {},
   "outputs": [],
   "source": [
    "nomor = [1,2,3,4,5,6,7,8,9]"
   ]
  },
  {
   "cell_type": "code",
   "execution_count": 35,
   "id": "afe1e268",
   "metadata": {},
   "outputs": [
    {
     "data": {
      "text/plain": [
       "[2, 4, 6, 8]"
      ]
     },
     "execution_count": 35,
     "metadata": {},
     "output_type": "execute_result"
    }
   ],
   "source": [
    "list(filter(cek_genap, nomor))"
   ]
  },
  {
   "cell_type": "code",
   "execution_count": 36,
   "id": "64ba2e85",
   "metadata": {},
   "outputs": [
    {
     "name": "stdout",
     "output_type": "stream",
     "text": [
      "False\n",
      "True\n",
      "False\n",
      "True\n",
      "False\n",
      "True\n",
      "False\n",
      "True\n",
      "False\n"
     ]
    }
   ],
   "source": [
    "for item in map(cek_genap,nomor):\n",
    "    print(item)"
   ]
  },
  {
   "cell_type": "markdown",
   "id": "3050e422",
   "metadata": {},
   "source": [
    "### Lambda Expression"
   ]
  },
  {
   "cell_type": "markdown",
   "id": "a506c101",
   "metadata": {},
   "source": [
    "lambda expression mirip seperti function def tapi lebih ringkas, biasanya digunakan sekali pakai"
   ]
  },
  {
   "cell_type": "code",
   "execution_count": 39,
   "id": "3c206459",
   "metadata": {},
   "outputs": [],
   "source": [
    "fungsi = lambda num: num*8"
   ]
  },
  {
   "cell_type": "code",
   "execution_count": 40,
   "id": "5679fd2d",
   "metadata": {},
   "outputs": [
    {
     "data": {
      "text/plain": [
       "72"
      ]
     },
     "execution_count": 40,
     "metadata": {},
     "output_type": "execute_result"
    }
   ],
   "source": [
    "fungsi(9)"
   ]
  },
  {
   "cell_type": "code",
   "execution_count": 41,
   "id": "79e6b431",
   "metadata": {},
   "outputs": [],
   "source": [
    "hasil_lambda = list(map(lambda num: num*10,angka)) #contoh sekalipakai"
   ]
  },
  {
   "cell_type": "code",
   "execution_count": 42,
   "id": "c9eacf0f",
   "metadata": {},
   "outputs": [
    {
     "data": {
      "text/plain": [
       "[40, 90, 50]"
      ]
     },
     "execution_count": 42,
     "metadata": {},
     "output_type": "execute_result"
    }
   ],
   "source": [
    "hasil_lambda"
   ]
  },
  {
   "cell_type": "code",
   "execution_count": 49,
   "id": "b9b61ab5",
   "metadata": {},
   "outputs": [],
   "source": [
    "#contoh lambda dalam filter\n",
    "genapku = list(filter(lambda num: num %2 == 0,nomor))"
   ]
  },
  {
   "cell_type": "code",
   "execution_count": 50,
   "id": "ae38347e",
   "metadata": {},
   "outputs": [
    {
     "data": {
      "text/plain": [
       "[2, 4, 6, 8]"
      ]
     },
     "execution_count": 50,
     "metadata": {},
     "output_type": "execute_result"
    }
   ],
   "source": [
    "genapku"
   ]
  },
  {
   "cell_type": "code",
   "execution_count": null,
   "id": "ebfbbf2a",
   "metadata": {},
   "outputs": [],
   "source": []
  }
 ],
 "metadata": {
  "kernelspec": {
   "display_name": "Python 3 (ipykernel)",
   "language": "python",
   "name": "python3"
  },
  "language_info": {
   "codemirror_mode": {
    "name": "ipython",
    "version": 3
   },
   "file_extension": ".py",
   "mimetype": "text/x-python",
   "name": "python",
   "nbconvert_exporter": "python",
   "pygments_lexer": "ipython3",
   "version": "3.9.13"
  }
 },
 "nbformat": 4,
 "nbformat_minor": 5
}
