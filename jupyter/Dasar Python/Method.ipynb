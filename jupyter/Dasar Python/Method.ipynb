{
 "cells": [
  {
   "cell_type": "markdown",
   "id": "87e0b2cc",
   "metadata": {},
   "source": [
    "## Method di Python"
   ]
  },
  {
   "cell_type": "code",
   "execution_count": 1,
   "id": "f807496e",
   "metadata": {},
   "outputs": [],
   "source": [
    "var1 = \"Kamu adalah hal yang indah menurutku\""
   ]
  },
  {
   "cell_type": "code",
   "execution_count": 2,
   "id": "fa7358b7",
   "metadata": {},
   "outputs": [
    {
     "data": {
      "text/plain": [
       "'Kamu adalah hal yang indah menurutku'"
      ]
     },
     "execution_count": 2,
     "metadata": {},
     "output_type": "execute_result"
    }
   ],
   "source": [
    "var1"
   ]
  },
  {
   "cell_type": "code",
   "execution_count": 6,
   "id": "87a52150",
   "metadata": {},
   "outputs": [
    {
     "data": {
      "text/plain": [
       "'KAMU ADALAH HAL YANG INDAH MENURUTKU'"
      ]
     },
     "execution_count": 6,
     "metadata": {},
     "output_type": "execute_result"
    }
   ],
   "source": [
    "var1.upper()"
   ]
  },
  {
   "cell_type": "code",
   "execution_count": 7,
   "id": "8549b3ae",
   "metadata": {},
   "outputs": [],
   "source": [
    "var1 = var1.upper() #uppercase"
   ]
  },
  {
   "cell_type": "code",
   "execution_count": 8,
   "id": "8ce4d053",
   "metadata": {},
   "outputs": [
    {
     "data": {
      "text/plain": [
       "'KAMU ADALAH HAL YANG INDAH MENURUTKU'"
      ]
     },
     "execution_count": 8,
     "metadata": {},
     "output_type": "execute_result"
    }
   ],
   "source": [
    "var1"
   ]
  },
  {
   "cell_type": "code",
   "execution_count": 9,
   "id": "43f7a171",
   "metadata": {},
   "outputs": [
    {
     "data": {
      "text/plain": [
       "['KAMU', 'ADALAH', 'HAL', 'YANG', 'INDAH', 'MENURUTKU']"
      ]
     },
     "execution_count": 9,
     "metadata": {},
     "output_type": "execute_result"
    }
   ],
   "source": [
    "var1.split() #memecah isi variable berdasarkan spasi"
   ]
  },
  {
   "cell_type": "markdown",
   "id": "e8e74777",
   "metadata": {},
   "source": [
    "#### Split berguna untuk NLP = Natural Language Processing"
   ]
  },
  {
   "cell_type": "code",
   "execution_count": 10,
   "id": "c7664abb",
   "metadata": {},
   "outputs": [
    {
     "data": {
      "text/plain": [
       "['K', 'MU ', 'D', 'L', 'H H', 'L Y', 'NG IND', 'H MENURUTKU']"
      ]
     },
     "execution_count": 10,
     "metadata": {},
     "output_type": "execute_result"
    }
   ],
   "source": [
    "var1.split('A') #memecah isi variable berdasarkan params A"
   ]
  },
  {
   "cell_type": "code",
   "execution_count": 14,
   "id": "ec743018",
   "metadata": {},
   "outputs": [],
   "source": [
    "var2 = [1,2,3,4,5]"
   ]
  },
  {
   "cell_type": "code",
   "execution_count": 15,
   "id": "004a0e06",
   "metadata": {},
   "outputs": [],
   "source": [
    "var2.reverse()"
   ]
  },
  {
   "cell_type": "code",
   "execution_count": 16,
   "id": "a56188a1",
   "metadata": {},
   "outputs": [
    {
     "data": {
      "text/plain": [
       "[5, 4, 3, 2, 1]"
      ]
     },
     "execution_count": 16,
     "metadata": {},
     "output_type": "execute_result"
    }
   ],
   "source": [
    "var2"
   ]
  },
  {
   "cell_type": "markdown",
   "id": "250ad8c2",
   "metadata": {},
   "source": [
    "#### setiap tipe data yang berbeda memunculkan method yang berbeda"
   ]
  },
  {
   "cell_type": "code",
   "execution_count": 12,
   "id": "ea0d340f",
   "metadata": {},
   "outputs": [
    {
     "data": {
      "text/plain": [
       "str"
      ]
     },
     "execution_count": 12,
     "metadata": {},
     "output_type": "execute_result"
    }
   ],
   "source": [
    "type(var1)"
   ]
  },
  {
   "cell_type": "code",
   "execution_count": 13,
   "id": "034b5624",
   "metadata": {},
   "outputs": [
    {
     "data": {
      "text/plain": [
       "list"
      ]
     },
     "execution_count": 13,
     "metadata": {},
     "output_type": "execute_result"
    }
   ],
   "source": [
    "type(var2)"
   ]
  },
  {
   "cell_type": "code",
   "execution_count": null,
   "id": "b21cd883",
   "metadata": {},
   "outputs": [],
   "source": []
  }
 ],
 "metadata": {
  "kernelspec": {
   "display_name": "Python 3 (ipykernel)",
   "language": "python",
   "name": "python3"
  },
  "language_info": {
   "codemirror_mode": {
    "name": "ipython",
    "version": 3
   },
   "file_extension": ".py",
   "mimetype": "text/x-python",
   "name": "python",
   "nbconvert_exporter": "python",
   "pygments_lexer": "ipython3",
   "version": "3.9.13"
  }
 },
 "nbformat": 4,
 "nbformat_minor": 5
}
