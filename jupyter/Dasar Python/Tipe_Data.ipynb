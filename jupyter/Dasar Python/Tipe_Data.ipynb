{
 "cells": [
  {
   "cell_type": "markdown",
   "id": "b0d4be6d",
   "metadata": {},
   "source": [
    "## Tipe Data di Python"
   ]
  },
  {
   "cell_type": "markdown",
   "id": "62f7b204",
   "metadata": {},
   "source": [
    "### Strings"
   ]
  },
  {
   "cell_type": "code",
   "execution_count": 2,
   "id": "b7a96a6c",
   "metadata": {},
   "outputs": [],
   "source": [
    "saya = \"galung\""
   ]
  },
  {
   "cell_type": "code",
   "execution_count": 3,
   "id": "06fb17a5",
   "metadata": {},
   "outputs": [
    {
     "data": {
      "text/plain": [
       "'galung'"
      ]
     },
     "execution_count": 3,
     "metadata": {},
     "output_type": "execute_result"
    }
   ],
   "source": [
    "saya"
   ]
  },
  {
   "cell_type": "code",
   "execution_count": 7,
   "id": "039c8d25",
   "metadata": {},
   "outputs": [
    {
     "data": {
      "text/plain": [
       "str"
      ]
     },
     "execution_count": 7,
     "metadata": {},
     "output_type": "execute_result"
    }
   ],
   "source": [
    "type(saya)"
   ]
  },
  {
   "cell_type": "markdown",
   "id": "a30bc0e6",
   "metadata": {},
   "source": [
    "### Int"
   ]
  },
  {
   "cell_type": "code",
   "execution_count": 14,
   "id": "3db6b517",
   "metadata": {},
   "outputs": [],
   "source": [
    "umur = 12"
   ]
  },
  {
   "cell_type": "code",
   "execution_count": 15,
   "id": "21561a8d",
   "metadata": {},
   "outputs": [
    {
     "data": {
      "text/plain": [
       "12"
      ]
     },
     "execution_count": 15,
     "metadata": {},
     "output_type": "execute_result"
    }
   ],
   "source": [
    "umur"
   ]
  },
  {
   "cell_type": "code",
   "execution_count": 10,
   "id": "68e0ce61",
   "metadata": {},
   "outputs": [
    {
     "data": {
      "text/plain": [
       "int"
      ]
     },
     "execution_count": 10,
     "metadata": {},
     "output_type": "execute_result"
    }
   ],
   "source": [
    "type(umur)"
   ]
  },
  {
   "cell_type": "markdown",
   "id": "788186cc",
   "metadata": {},
   "source": [
    "### Float"
   ]
  },
  {
   "cell_type": "code",
   "execution_count": 11,
   "id": "9e3b88ec",
   "metadata": {},
   "outputs": [],
   "source": [
    "bagi = umur / 3"
   ]
  },
  {
   "cell_type": "code",
   "execution_count": 12,
   "id": "d97b2f88",
   "metadata": {},
   "outputs": [
    {
     "data": {
      "text/plain": [
       "4.0"
      ]
     },
     "execution_count": 12,
     "metadata": {},
     "output_type": "execute_result"
    }
   ],
   "source": [
    "bagi"
   ]
  },
  {
   "cell_type": "code",
   "execution_count": 18,
   "id": "f6a58f6f",
   "metadata": {},
   "outputs": [
    {
     "data": {
      "text/plain": [
       "float"
      ]
     },
     "execution_count": 18,
     "metadata": {},
     "output_type": "execute_result"
    }
   ],
   "source": [
    "type(bagi)"
   ]
  },
  {
   "cell_type": "markdown",
   "id": "2af047b6",
   "metadata": {},
   "source": [
    "### Modulus"
   ]
  },
  {
   "cell_type": "code",
   "execution_count": 19,
   "id": "4b11c0a5",
   "metadata": {},
   "outputs": [
    {
     "data": {
      "text/plain": [
       "1"
      ]
     },
     "execution_count": 19,
     "metadata": {},
     "output_type": "execute_result"
    }
   ],
   "source": [
    "7%2"
   ]
  },
  {
   "cell_type": "code",
   "execution_count": 20,
   "id": "4e076e95",
   "metadata": {},
   "outputs": [
    {
     "data": {
      "text/plain": [
       "0"
      ]
     },
     "execution_count": 20,
     "metadata": {},
     "output_type": "execute_result"
    }
   ],
   "source": [
    "675236%2"
   ]
  },
  {
   "cell_type": "markdown",
   "id": "092723c8",
   "metadata": {},
   "source": [
    "### Pangkat"
   ]
  },
  {
   "cell_type": "code",
   "execution_count": 21,
   "id": "89bfa670",
   "metadata": {},
   "outputs": [
    {
     "data": {
      "text/plain": [
       "16"
      ]
     },
     "execution_count": 21,
     "metadata": {},
     "output_type": "execute_result"
    }
   ],
   "source": [
    "2**4"
   ]
  },
  {
   "cell_type": "markdown",
   "id": "8a381b6d",
   "metadata": {},
   "source": [
    "#### uji apa python menggunakan logic math??"
   ]
  },
  {
   "cell_type": "code",
   "execution_count": 22,
   "id": "f34cea82",
   "metadata": {},
   "outputs": [
    {
     "data": {
      "text/plain": [
       "50"
      ]
     },
     "execution_count": 22,
     "metadata": {},
     "output_type": "execute_result"
    }
   ],
   "source": [
    "4 * 5 + 2 * 4 + 6 * 2 + 10 "
   ]
  },
  {
   "cell_type": "code",
   "execution_count": 23,
   "id": "b236f71c",
   "metadata": {},
   "outputs": [
    {
     "data": {
      "text/plain": [
       "60.0"
      ]
     },
     "execution_count": 23,
     "metadata": {},
     "output_type": "execute_result"
    }
   ],
   "source": [
    "(10 + 2) / (4 - 2) * (5 + 5)"
   ]
  }
 ],
 "metadata": {
  "kernelspec": {
   "display_name": "Python 3 (ipykernel)",
   "language": "python",
   "name": "python3"
  },
  "language_info": {
   "codemirror_mode": {
    "name": "ipython",
    "version": 3
   },
   "file_extension": ".py",
   "mimetype": "text/x-python",
   "name": "python",
   "nbconvert_exporter": "python",
   "pygments_lexer": "ipython3",
   "version": "3.9.13"
  }
 },
 "nbformat": 4,
 "nbformat_minor": 5
}
