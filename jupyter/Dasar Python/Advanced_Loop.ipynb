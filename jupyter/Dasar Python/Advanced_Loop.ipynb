{
 "cells": [
  {
   "cell_type": "markdown",
   "id": "dc30c9f5",
   "metadata": {},
   "source": [
    "### Advanced for Loop"
   ]
  },
  {
   "cell_type": "code",
   "execution_count": 2,
   "id": "10aad287",
   "metadata": {},
   "outputs": [],
   "source": [
    "#mengisi list dengan range\n",
    "isi = list(range(1,11))"
   ]
  },
  {
   "cell_type": "code",
   "execution_count": 3,
   "id": "94f37d4c",
   "metadata": {},
   "outputs": [
    {
     "data": {
      "text/plain": [
       "[1, 2, 3, 4, 5, 6, 7, 8, 9, 10]"
      ]
     },
     "execution_count": 3,
     "metadata": {},
     "output_type": "execute_result"
    }
   ],
   "source": [
    "isi"
   ]
  },
  {
   "cell_type": "code",
   "execution_count": 4,
   "id": "ec92bd01",
   "metadata": {},
   "outputs": [],
   "source": [
    "#bisa dilakukan dengan for loop\n",
    "isi2 = []"
   ]
  },
  {
   "cell_type": "code",
   "execution_count": 5,
   "id": "58b45daa",
   "metadata": {},
   "outputs": [
    {
     "data": {
      "text/plain": [
       "[1, 2, 3, 4, 5, 6, 7, 8, 9, 10]"
      ]
     },
     "execution_count": 5,
     "metadata": {},
     "output_type": "execute_result"
    }
   ],
   "source": [
    "for item in range(1,11):\n",
    "    isi2.append(item)\n",
    "isi2"
   ]
  },
  {
   "cell_type": "code",
   "execution_count": 6,
   "id": "e8166588",
   "metadata": {},
   "outputs": [],
   "source": [
    "#bisa dilakukan dengan 1 baris menggunakan loop\n",
    "#dengan memberi value untuk list kemudian\n",
    "#value tersebut di looping"
   ]
  },
  {
   "cell_type": "code",
   "execution_count": 9,
   "id": "e9d59b04",
   "metadata": {},
   "outputs": [],
   "source": [
    "#contoh \n",
    "isi3 = [item**2 for item in range(1,11)] \n",
    "#bisa dilakukan operasi aritmatika di item tersebut contoh pangkat 2\n",
    "#ini bisa juga disebut list comprehension"
   ]
  },
  {
   "cell_type": "code",
   "execution_count": 10,
   "id": "353a1187",
   "metadata": {},
   "outputs": [
    {
     "data": {
      "text/plain": [
       "[1, 4, 9, 16, 25, 36, 49, 64, 81, 100]"
      ]
     },
     "execution_count": 10,
     "metadata": {},
     "output_type": "execute_result"
    }
   ],
   "source": [
    "isi3"
   ]
  },
  {
   "cell_type": "code",
   "execution_count": 13,
   "id": "b83081b3",
   "metadata": {},
   "outputs": [],
   "source": [
    "#bisa digunakan untuk memfilter yang dimasukan kedalam list nya \n",
    "isi4 = [baru for baru in range(1,11) if baru % 2 == 0]"
   ]
  },
  {
   "cell_type": "code",
   "execution_count": 14,
   "id": "ad9be587",
   "metadata": {},
   "outputs": [
    {
     "data": {
      "text/plain": [
       "[2, 4, 6, 8, 10]"
      ]
     },
     "execution_count": 14,
     "metadata": {},
     "output_type": "execute_result"
    }
   ],
   "source": [
    "isi4"
   ]
  },
  {
   "cell_type": "code",
   "execution_count": 15,
   "id": "d70ff1c9",
   "metadata": {},
   "outputs": [],
   "source": [
    "#bisa juga menggunakan else\n",
    "isi5 = [baru  if baru % 2 == 0 else 'ini adalah angka ganjil' for baru in range(1,11)]"
   ]
  },
  {
   "cell_type": "code",
   "execution_count": 16,
   "id": "ec3cd782",
   "metadata": {},
   "outputs": [
    {
     "data": {
      "text/plain": [
       "['ini adalah angka ganjil',\n",
       " 2,\n",
       " 'ini adalah angka ganjil',\n",
       " 4,\n",
       " 'ini adalah angka ganjil',\n",
       " 6,\n",
       " 'ini adalah angka ganjil',\n",
       " 8,\n",
       " 'ini adalah angka ganjil',\n",
       " 10]"
      ]
     },
     "execution_count": 16,
     "metadata": {},
     "output_type": "execute_result"
    }
   ],
   "source": [
    "isi5"
   ]
  },
  {
   "cell_type": "code",
   "execution_count": null,
   "id": "4a450616",
   "metadata": {},
   "outputs": [],
   "source": [
    "#yang diatas jika menggunakan for biasa\n",
    "isi6 = []\n",
    "for item in range(1,11):\n",
    "    if item % 2 == 0:\n",
    "        isi6.append(item)\n",
    "    else :\n",
    "        isi6.append('ini bilangan ganjil')"
   ]
  }
 ],
 "metadata": {
  "kernelspec": {
   "display_name": "Python 3 (ipykernel)",
   "language": "python",
   "name": "python3"
  },
  "language_info": {
   "codemirror_mode": {
    "name": "ipython",
    "version": 3
   },
   "file_extension": ".py",
   "mimetype": "text/x-python",
   "name": "python",
   "nbconvert_exporter": "python",
   "pygments_lexer": "ipython3",
   "version": "3.9.13"
  }
 },
 "nbformat": 4,
 "nbformat_minor": 5
}
