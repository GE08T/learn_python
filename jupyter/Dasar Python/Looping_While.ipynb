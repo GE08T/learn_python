{
 "cells": [
  {
   "cell_type": "markdown",
   "id": "0b288523",
   "metadata": {},
   "source": [
    "### While Loop menggunakan 3 argumen :"
   ]
  },
  {
   "cell_type": "markdown",
   "id": "da518c5c",
   "metadata": {},
   "source": [
    "1. break untuk menghentikan looping\n",
    "2. continue untuk melanjutkan looping ke iterator selanjutnya\n",
    "3. pass untuk tidak melakukan apa apa "
   ]
  },
  {
   "cell_type": "code",
   "execution_count": 12,
   "id": "7cb0875f",
   "metadata": {},
   "outputs": [],
   "source": [
    "#contoh kode\n",
    "number = 0"
   ]
  },
  {
   "cell_type": "code",
   "execution_count": 13,
   "id": "6244ad24",
   "metadata": {},
   "outputs": [
    {
     "name": "stdout",
     "output_type": "stream",
     "text": [
      "ini adalah while loop\n",
      "ini adalah while loop\n",
      "ini adalah while loop\n",
      "ini adalah while loop\n",
      "ini adalah while loop\n"
     ]
    }
   ],
   "source": [
    "while True:\n",
    "    print ('ini adalah while loop')\n",
    "    number += 1\n",
    "    if (number == 5):\n",
    "        break"
   ]
  },
  {
   "cell_type": "code",
   "execution_count": 14,
   "id": "c1f32b55",
   "metadata": {},
   "outputs": [],
   "source": [
    "contoh = 0"
   ]
  },
  {
   "cell_type": "code",
   "execution_count": 16,
   "id": "87fa981f",
   "metadata": {},
   "outputs": [
    {
     "name": "stdout",
     "output_type": "stream",
     "text": [
      "contoh sekarang adalah 0\n",
      "contoh sekarang adalah 1\n",
      "contoh sekarang adalah 2\n",
      "contoh sekarang adalah 3\n",
      "contoh sekarang adalah 4\n",
      "contoh sekarang adalah 5\n",
      "contoh sekarang adalah 6\n",
      "contoh sekarang adalah 7\n",
      "contoh sekarang adalah 8\n",
      "contoh sekarang adalah 9\n",
      "contoh sekarang adalah 10\n",
      "contoh sekarang adalah 11\n",
      "contoh sekarang adalah 12\n",
      "contoh sekarang adalah 13\n",
      "contoh sekarang adalah 14\n",
      "contoh sekarang adalah 15\n",
      "contoh sekarang adalah 16\n",
      "contoh sekarang adalah 17\n",
      "contoh sekarang adalah 18\n",
      "contoh sekarang adalah 19\n",
      "contoh sekarang adalah 20\n",
      "contoh sekarang adalah 21\n",
      "contoh sekarang adalah 22\n",
      "contoh sekarang adalah 23\n",
      "contoh sekarang adalah 24\n",
      "contoh sekarang adalah 25\n",
      "contoh sekarang adalah 26\n",
      "contoh sekarang adalah 27\n",
      "contoh sekarang adalah 28\n",
      "contoh sekarang adalah 29\n"
     ]
    }
   ],
   "source": [
    "while contoh < 30:\n",
    "    print('contoh sekarang adalah',contoh)\n",
    "    contoh += 1"
   ]
  },
  {
   "cell_type": "code",
   "execution_count": 17,
   "id": "95e1af9b",
   "metadata": {},
   "outputs": [],
   "source": [
    "#continue\n",
    "angka = [1,2,3,4,5,6,7,8,9,10]"
   ]
  },
  {
   "cell_type": "code",
   "execution_count": 21,
   "id": "da6127ed",
   "metadata": {},
   "outputs": [
    {
     "name": "stdout",
     "output_type": "stream",
     "text": [
      "anda berada di angka ganjil = 1\n",
      "anda berada di angka ganjil = 3\n",
      "anda berada di angka ganjil = 5\n",
      "anda berada di angka ganjil = 7\n",
      "anda berada di angka ganjil = 9\n"
     ]
    }
   ],
   "source": [
    "for item in angka:\n",
    "    if item % 2 == 0:\n",
    "        continue\n",
    "    else:\n",
    "        print('anda berada di angka ganjil =',item)"
   ]
  },
  {
   "cell_type": "code",
   "execution_count": 22,
   "id": "546de180",
   "metadata": {},
   "outputs": [],
   "source": [
    "#pass\n",
    "for i in 'saya sudah mulai mahir di python':\n",
    "    if i == 'a':\n",
    "        pass\n",
    "    else:\n",
    "        continue"
   ]
  },
  {
   "cell_type": "markdown",
   "id": "afb48522",
   "metadata": {},
   "source": [
    "for harus ada statement didalam scope nya \n",
    "jika ingin tidak ada statement maka gunakan pass"
   ]
  },
  {
   "cell_type": "code",
   "execution_count": 24,
   "id": "23367a20",
   "metadata": {},
   "outputs": [
    {
     "ename": "IndentationError",
     "evalue": "expected an indented block (694491396.py, line 3)",
     "output_type": "error",
     "traceback": [
      "\u001b[1;36m  File \u001b[1;32m\"C:\\Users\\GE08T\\AppData\\Local\\Temp\\ipykernel_8588\\694491396.py\"\u001b[1;36m, line \u001b[1;32m3\u001b[0m\n\u001b[1;33m    \u001b[0m\n\u001b[1;37m    ^\u001b[0m\n\u001b[1;31mIndentationError\u001b[0m\u001b[1;31m:\u001b[0m expected an indented block\n"
     ]
    }
   ],
   "source": [
    "#contoh\n",
    "for i in 'abcd':\n",
    "    "
   ]
  },
  {
   "cell_type": "code",
   "execution_count": 25,
   "id": "fcfc57f2",
   "metadata": {},
   "outputs": [],
   "source": [
    "for i in 'abcd':\n",
    "    pass"
   ]
  },
  {
   "cell_type": "code",
   "execution_count": null,
   "id": "0054ad69",
   "metadata": {},
   "outputs": [],
   "source": []
  }
 ],
 "metadata": {
  "kernelspec": {
   "display_name": "Python 3 (ipykernel)",
   "language": "python",
   "name": "python3"
  },
  "language_info": {
   "codemirror_mode": {
    "name": "ipython",
    "version": 3
   },
   "file_extension": ".py",
   "mimetype": "text/x-python",
   "name": "python",
   "nbconvert_exporter": "python",
   "pygments_lexer": "ipython3",
   "version": "3.9.13"
  }
 },
 "nbformat": 4,
 "nbformat_minor": 5
}
