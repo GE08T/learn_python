{
 "cells": [
  {
   "cell_type": "markdown",
   "id": "ca3c5004",
   "metadata": {},
   "source": [
    "### Range"
   ]
  },
  {
   "cell_type": "code",
   "execution_count": 5,
   "id": "729e82de",
   "metadata": {},
   "outputs": [
    {
     "name": "stdout",
     "output_type": "stream",
     "text": [
      "1\n",
      "3\n",
      "5\n",
      "7\n",
      "9\n"
     ]
    }
   ],
   "source": [
    "#antara angka pertama dan terakhir\n",
    "for i in range(1,10,2):\n",
    "    print(i)"
   ]
  },
  {
   "cell_type": "code",
   "execution_count": 8,
   "id": "5d848eb7",
   "metadata": {},
   "outputs": [],
   "source": [
    "angka = list(range(1,11)) #cara cepat untuk menggunakan list"
   ]
  },
  {
   "cell_type": "code",
   "execution_count": 9,
   "id": "8da3bf27",
   "metadata": {},
   "outputs": [
    {
     "data": {
      "text/plain": [
       "[1, 2, 3, 4, 5, 6, 7, 8, 9, 10]"
      ]
     },
     "execution_count": 9,
     "metadata": {},
     "output_type": "execute_result"
    }
   ],
   "source": [
    "angka"
   ]
  },
  {
   "cell_type": "code",
   "execution_count": 10,
   "id": "74a7cd96",
   "metadata": {},
   "outputs": [],
   "source": [
    "angka = [1,2,3,4,5,6,7,8,9,10]"
   ]
  },
  {
   "cell_type": "code",
   "execution_count": 11,
   "id": "b7d73754",
   "metadata": {},
   "outputs": [
    {
     "data": {
      "text/plain": [
       "[1, 2, 3, 4, 5, 6, 7, 8, 9, 10]"
      ]
     },
     "execution_count": 11,
     "metadata": {},
     "output_type": "execute_result"
    }
   ],
   "source": [
    "angka"
   ]
  },
  {
   "cell_type": "markdown",
   "id": "dee30970",
   "metadata": {},
   "source": [
    "### Enumerate"
   ]
  },
  {
   "cell_type": "code",
   "execution_count": 18,
   "id": "1e0ae872",
   "metadata": {},
   "outputs": [
    {
     "name": "stdout",
     "output_type": "stream",
     "text": [
      "huruf a indeks ke-0\n",
      "huruf b indeks ke-1\n",
      "huruf c indeks ke-2\n",
      "huruf d indeks ke-3\n",
      "huruf e indeks ke-4\n",
      "huruf f indeks ke-5\n",
      "huruf g indeks ke-6\n",
      "huruf h indeks ke-7\n",
      "huruf i indeks ke-8\n",
      "huruf j indeks ke-9\n",
      "huruf k indeks ke-10\n"
     ]
    }
   ],
   "source": [
    "#jika biasanya menggunakan seperti ini\n",
    "number = 0\n",
    "for item in 'abcdefghijk':\n",
    "    print('huruf {} indeks ke-{}'.format(item,number))\n",
    "    number += 1"
   ]
  },
  {
   "cell_type": "code",
   "execution_count": 19,
   "id": "504b4023",
   "metadata": {},
   "outputs": [
    {
     "name": "stdout",
     "output_type": "stream",
     "text": [
      "(0, 'a')\n",
      "(1, 'b')\n",
      "(2, 'c')\n",
      "(3, 'd')\n",
      "(4, 'e')\n",
      "(5, 'f')\n",
      "(6, 'g')\n",
      "(7, 'h')\n",
      "(8, 'i')\n",
      "(9, 'j')\n",
      "(10, 'k')\n"
     ]
    }
   ],
   "source": [
    "#cara cepat menggunakan enumrate\n",
    "huruf = 'abcdefghijk'\n",
    "for item in enumerate(huruf):\n",
    "    print(item) #hasil dari enumerate adalah tuple"
   ]
  },
  {
   "cell_type": "code",
   "execution_count": 20,
   "id": "966b1f78",
   "metadata": {},
   "outputs": [],
   "source": [
    "#kita juga dapat menggunakan tuple unpackage"
   ]
  },
  {
   "cell_type": "code",
   "execution_count": 23,
   "id": "1beedec7",
   "metadata": {},
   "outputs": [
    {
     "name": "stdout",
     "output_type": "stream",
     "text": [
      "0 a\n",
      "1 b\n",
      "2 c\n",
      "3 d\n",
      "4 e\n",
      "5 f\n",
      "6 g\n",
      "7 h\n",
      "8 i\n",
      "9 j\n",
      "10 k\n"
     ]
    }
   ],
   "source": [
    "for a,b in enumerate(huruf):\n",
    "    print(a,b)"
   ]
  },
  {
   "cell_type": "markdown",
   "id": "4f249908",
   "metadata": {},
   "source": [
    "### Zip"
   ]
  },
  {
   "cell_type": "code",
   "execution_count": 25,
   "id": "cd77f2ab",
   "metadata": {},
   "outputs": [],
   "source": [
    "#digunakan untuk menggabungkan list\n",
    "list1 = [1,2,3,4,5]\n",
    "list2 = ['a','b','c','d','e']"
   ]
  },
  {
   "cell_type": "code",
   "execution_count": 28,
   "id": "4dff5d8c",
   "metadata": {},
   "outputs": [
    {
     "name": "stdout",
     "output_type": "stream",
     "text": [
      "(1, 'a')\n",
      "(2, 'b')\n",
      "(3, 'c')\n",
      "(4, 'd')\n",
      "(5, 'e')\n"
     ]
    }
   ],
   "source": [
    "for i in zip(list1,list2):\n",
    "    print(i) #hasilnya adalah tuple"
   ]
  },
  {
   "cell_type": "markdown",
   "id": "579b414e",
   "metadata": {},
   "source": [
    "### Item Checking "
   ]
  },
  {
   "cell_type": "code",
   "execution_count": 29,
   "id": "f79b5f6b",
   "metadata": {},
   "outputs": [
    {
     "data": {
      "text/plain": [
       "True"
      ]
     },
     "execution_count": 29,
     "metadata": {},
     "output_type": "execute_result"
    }
   ],
   "source": [
    "#digunakan untuk mengecek data ada / tidak\n",
    "'e' in 'saya sedang sendiri disini'"
   ]
  },
  {
   "cell_type": "code",
   "execution_count": 31,
   "id": "dd69d98f",
   "metadata": {},
   "outputs": [],
   "source": [
    "#dictionary\n",
    "dictionary = {'a':100, 'b':200, 'c':300}"
   ]
  },
  {
   "cell_type": "code",
   "execution_count": 32,
   "id": "12473efb",
   "metadata": {},
   "outputs": [
    {
     "data": {
      "text/plain": [
       "True"
      ]
     },
     "execution_count": 32,
     "metadata": {},
     "output_type": "execute_result"
    }
   ],
   "source": [
    "'a' in dictionary"
   ]
  },
  {
   "cell_type": "code",
   "execution_count": 34,
   "id": "e75ad431",
   "metadata": {},
   "outputs": [
    {
     "data": {
      "text/plain": [
       "True"
      ]
     },
     "execution_count": 34,
     "metadata": {},
     "output_type": "execute_result"
    }
   ],
   "source": [
    "#cek values di dictionary\n",
    "200 in dictionary.values()"
   ]
  },
  {
   "cell_type": "code",
   "execution_count": null,
   "id": "56bab7ed",
   "metadata": {},
   "outputs": [],
   "source": []
  }
 ],
 "metadata": {
  "kernelspec": {
   "display_name": "Python 3 (ipykernel)",
   "language": "python",
   "name": "python3"
  },
  "language_info": {
   "codemirror_mode": {
    "name": "ipython",
    "version": 3
   },
   "file_extension": ".py",
   "mimetype": "text/x-python",
   "name": "python",
   "nbconvert_exporter": "python",
   "pygments_lexer": "ipython3",
   "version": "3.9.13"
  }
 },
 "nbformat": 4,
 "nbformat_minor": 5
}
