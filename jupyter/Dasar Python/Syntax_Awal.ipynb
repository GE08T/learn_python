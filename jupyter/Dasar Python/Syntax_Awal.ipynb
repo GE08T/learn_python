{
 "cells": [
  {
   "cell_type": "markdown",
   "id": "ec38e162",
   "metadata": {},
   "source": [
    "print string"
   ]
  },
  {
   "cell_type": "code",
   "execution_count": 1,
   "id": "6af47ecc",
   "metadata": {},
   "outputs": [
    {
     "name": "stdout",
     "output_type": "stream",
     "text": [
      "Ini Print di python\n"
     ]
    }
   ],
   "source": [
    "print(\"Ini Print di python\")"
   ]
  },
  {
   "cell_type": "markdown",
   "id": "9bb92641",
   "metadata": {},
   "source": [
    "print number"
   ]
  },
  {
   "cell_type": "code",
   "execution_count": 2,
   "id": "cd195f18",
   "metadata": {},
   "outputs": [
    {
     "data": {
      "text/plain": [
       "2"
      ]
     },
     "execution_count": 2,
     "metadata": {},
     "output_type": "execute_result"
    }
   ],
   "source": [
    "1+1"
   ]
  },
  {
   "cell_type": "markdown",
   "id": "d5e0c2d4",
   "metadata": {},
   "source": [
    "Ketik ALT + ENTER untuk menambah baris tanpa running"
   ]
  },
  {
   "cell_type": "markdown",
   "id": "a589b3f8",
   "metadata": {},
   "source": [
    "ketik SHIFT + ENTER untuk running "
   ]
  }
 ],
 "metadata": {
  "kernelspec": {
   "display_name": "Python 3 (ipykernel)",
   "language": "python",
   "name": "python3"
  },
  "language_info": {
   "codemirror_mode": {
    "name": "ipython",
    "version": 3
   },
   "file_extension": ".py",
   "mimetype": "text/x-python",
   "name": "python",
   "nbconvert_exporter": "python",
   "pygments_lexer": "ipython3",
   "version": "3.9.13"
  }
 },
 "nbformat": 4,
 "nbformat_minor": 5
}
