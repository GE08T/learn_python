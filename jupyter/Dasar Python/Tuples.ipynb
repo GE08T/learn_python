{
 "cells": [
  {
   "cell_type": "markdown",
   "id": "30bd307c",
   "metadata": {},
   "source": [
    "### Tuples "
   ]
  },
  {
   "cell_type": "markdown",
   "id": "4116010a",
   "metadata": {},
   "source": [
    "#### Tuples ialah tipe data list yang immutable (tidak bisa dirubah)"
   ]
  },
  {
   "cell_type": "code",
   "execution_count": 1,
   "id": "ea4b573f",
   "metadata": {},
   "outputs": [],
   "source": [
    "nomor = (1,2,3,4,5)"
   ]
  },
  {
   "cell_type": "code",
   "execution_count": 3,
   "id": "5a2ccfeb",
   "metadata": {},
   "outputs": [
    {
     "data": {
      "text/plain": [
       "tuple"
      ]
     },
     "execution_count": 3,
     "metadata": {},
     "output_type": "execute_result"
    }
   ],
   "source": [
    "type(nomor)"
   ]
  },
  {
   "cell_type": "code",
   "execution_count": 4,
   "id": "9917c9f8",
   "metadata": {},
   "outputs": [],
   "source": [
    "nomor2 = 1,2,3,4,5"
   ]
  },
  {
   "cell_type": "code",
   "execution_count": 5,
   "id": "71738788",
   "metadata": {},
   "outputs": [
    {
     "data": {
      "text/plain": [
       "tuple"
      ]
     },
     "execution_count": 5,
     "metadata": {},
     "output_type": "execute_result"
    }
   ],
   "source": [
    "type(nomor2)"
   ]
  },
  {
   "cell_type": "markdown",
   "id": "bfaadf44",
   "metadata": {},
   "source": [
    "#### Hati hati membuat string karena dapat menjadi list "
   ]
  },
  {
   "cell_type": "code",
   "execution_count": 6,
   "id": "d6598960",
   "metadata": {},
   "outputs": [],
   "source": [
    "str1 = 'kita akan menjadi', 'yang terhebat'"
   ]
  },
  {
   "cell_type": "code",
   "execution_count": 7,
   "id": "dd773ceb",
   "metadata": {},
   "outputs": [
    {
     "data": {
      "text/plain": [
       "tuple"
      ]
     },
     "execution_count": 7,
     "metadata": {},
     "output_type": "execute_result"
    }
   ],
   "source": [
    "type(str1)"
   ]
  },
  {
   "cell_type": "markdown",
   "id": "8d54db21",
   "metadata": {},
   "source": [
    "#### Tuple bisa menampung banyak tipe data seperti list"
   ]
  },
  {
   "cell_type": "markdown",
   "id": "2ec7db34",
   "metadata": {},
   "source": [
    "#### bedakan list [ ] dengan tuple ()"
   ]
  },
  {
   "cell_type": "markdown",
   "id": "b8e5dd71",
   "metadata": {},
   "source": [
    "#### Ketika Tuple dipaksa di ubah"
   ]
  },
  {
   "cell_type": "code",
   "execution_count": 8,
   "id": "00555f74",
   "metadata": {},
   "outputs": [
    {
     "ename": "TypeError",
     "evalue": "'tuple' object does not support item assignment",
     "output_type": "error",
     "traceback": [
      "\u001b[1;31m---------------------------------------------------------------------------\u001b[0m",
      "\u001b[1;31mTypeError\u001b[0m                                 Traceback (most recent call last)",
      "\u001b[1;32m~\\AppData\\Local\\Temp\\ipykernel_9032\\4099838315.py\u001b[0m in \u001b[0;36m<module>\u001b[1;34m\u001b[0m\n\u001b[1;32m----> 1\u001b[1;33m \u001b[0mnomor\u001b[0m\u001b[1;33m[\u001b[0m\u001b[1;36m0\u001b[0m\u001b[1;33m]\u001b[0m\u001b[1;33m=\u001b[0m \u001b[1;34m'saya'\u001b[0m\u001b[1;33m\u001b[0m\u001b[1;33m\u001b[0m\u001b[0m\n\u001b[0m",
      "\u001b[1;31mTypeError\u001b[0m: 'tuple' object does not support item assignment"
     ]
    }
   ],
   "source": [
    "nomor[0]= 'saya'"
   ]
  },
  {
   "cell_type": "code",
   "execution_count": 10,
   "id": "dd10b6f7",
   "metadata": {},
   "outputs": [
    {
     "data": {
      "text/plain": [
       "(1, 2, 3, 4, 5)"
      ]
     },
     "execution_count": 10,
     "metadata": {},
     "output_type": "execute_result"
    }
   ],
   "source": [
    "#mengubah value tuple bisa dilakukan tapi harus menggunakan reassignment\n",
    "nomor"
   ]
  },
  {
   "cell_type": "code",
   "execution_count": 11,
   "id": "be2fd041",
   "metadata": {},
   "outputs": [],
   "source": [
    "nomor = nomor[0], nomor[1], 'gedhang', nomor[3], nomor[4]"
   ]
  },
  {
   "cell_type": "code",
   "execution_count": 12,
   "id": "83075e55",
   "metadata": {},
   "outputs": [
    {
     "data": {
      "text/plain": [
       "(1, 2, 'gedhang', 4, 5)"
      ]
     },
     "execution_count": 12,
     "metadata": {},
     "output_type": "execute_result"
    }
   ],
   "source": [
    "nomor"
   ]
  },
  {
   "cell_type": "code",
   "execution_count": 13,
   "id": "412e02c3",
   "metadata": {},
   "outputs": [],
   "source": [
    "#cara lain untuk mengubahnya dengan cara diubah dulu kedalam list\n",
    "nomor = list(nomor)"
   ]
  },
  {
   "cell_type": "code",
   "execution_count": 14,
   "id": "9f096fde",
   "metadata": {},
   "outputs": [
    {
     "data": {
      "text/plain": [
       "[1, 2, 'gedhang', 4, 5]"
      ]
     },
     "execution_count": 14,
     "metadata": {},
     "output_type": "execute_result"
    }
   ],
   "source": [
    "nomor"
   ]
  },
  {
   "cell_type": "code",
   "execution_count": 15,
   "id": "6264ea3b",
   "metadata": {},
   "outputs": [],
   "source": [
    "nomor[3] = 'surikaya'"
   ]
  },
  {
   "cell_type": "code",
   "execution_count": 16,
   "id": "7e3d7711",
   "metadata": {},
   "outputs": [
    {
     "data": {
      "text/plain": [
       "[1, 2, 'gedhang', 'surikaya', 5]"
      ]
     },
     "execution_count": 16,
     "metadata": {},
     "output_type": "execute_result"
    }
   ],
   "source": [
    "nomor"
   ]
  },
  {
   "cell_type": "code",
   "execution_count": 17,
   "id": "87093e8c",
   "metadata": {},
   "outputs": [],
   "source": [
    "nomor = tuple(nomor) #mengembalikan ke tuple"
   ]
  },
  {
   "cell_type": "code",
   "execution_count": 18,
   "id": "0b6fb6f1",
   "metadata": {},
   "outputs": [
    {
     "data": {
      "text/plain": [
       "(1, 2, 'gedhang', 'surikaya', 5)"
      ]
     },
     "execution_count": 18,
     "metadata": {},
     "output_type": "execute_result"
    }
   ],
   "source": [
    "nomor"
   ]
  },
  {
   "cell_type": "markdown",
   "id": "904116c9",
   "metadata": {},
   "source": [
    "### Methods didalam tuple"
   ]
  },
  {
   "cell_type": "code",
   "execution_count": 19,
   "id": "31aaea22",
   "metadata": {},
   "outputs": [],
   "source": [
    "t1 = ('a','a','a','a','a','b','c','d')"
   ]
  },
  {
   "cell_type": "code",
   "execution_count": 20,
   "id": "39f9a9fe",
   "metadata": {},
   "outputs": [
    {
     "data": {
      "text/plain": [
       "5"
      ]
     },
     "execution_count": 20,
     "metadata": {},
     "output_type": "execute_result"
    }
   ],
   "source": [
    "t1.count('a')"
   ]
  },
  {
   "cell_type": "code",
   "execution_count": 23,
   "id": "de14897b",
   "metadata": {},
   "outputs": [
    {
     "data": {
      "text/plain": [
       "6"
      ]
     },
     "execution_count": 23,
     "metadata": {},
     "output_type": "execute_result"
    }
   ],
   "source": [
    "t1.index('c')"
   ]
  },
  {
   "cell_type": "markdown",
   "id": "67479a48",
   "metadata": {},
   "source": [
    "### Multiple Assignment & Tuple"
   ]
  },
  {
   "cell_type": "code",
   "execution_count": 24,
   "id": "a6ad3aa5",
   "metadata": {},
   "outputs": [],
   "source": [
    "a,b,c,d = 1,2,3,4"
   ]
  },
  {
   "cell_type": "code",
   "execution_count": 25,
   "id": "ad8cda08",
   "metadata": {},
   "outputs": [
    {
     "data": {
      "text/plain": [
       "1"
      ]
     },
     "execution_count": 25,
     "metadata": {},
     "output_type": "execute_result"
    }
   ],
   "source": [
    "a"
   ]
  },
  {
   "cell_type": "code",
   "execution_count": 26,
   "id": "93ca0532",
   "metadata": {},
   "outputs": [
    {
     "data": {
      "text/plain": [
       "2"
      ]
     },
     "execution_count": 26,
     "metadata": {},
     "output_type": "execute_result"
    }
   ],
   "source": [
    "b"
   ]
  },
  {
   "cell_type": "code",
   "execution_count": 27,
   "id": "81dd0ed8",
   "metadata": {},
   "outputs": [
    {
     "data": {
      "text/plain": [
       "3"
      ]
     },
     "execution_count": 27,
     "metadata": {},
     "output_type": "execute_result"
    }
   ],
   "source": [
    "c"
   ]
  },
  {
   "cell_type": "code",
   "execution_count": 28,
   "id": "7bb69ede",
   "metadata": {},
   "outputs": [
    {
     "data": {
      "text/plain": [
       "4"
      ]
     },
     "execution_count": 28,
     "metadata": {},
     "output_type": "execute_result"
    }
   ],
   "source": [
    "d"
   ]
  },
  {
   "cell_type": "code",
   "execution_count": 30,
   "id": "5dace107",
   "metadata": {},
   "outputs": [],
   "source": [
    "a = b = c = d = 'asik'"
   ]
  },
  {
   "cell_type": "code",
   "execution_count": 31,
   "id": "a4e0f47e",
   "metadata": {},
   "outputs": [
    {
     "data": {
      "text/plain": [
       "'asik'"
      ]
     },
     "execution_count": 31,
     "metadata": {},
     "output_type": "execute_result"
    }
   ],
   "source": [
    "a"
   ]
  },
  {
   "cell_type": "code",
   "execution_count": 32,
   "id": "bd39ff26",
   "metadata": {},
   "outputs": [
    {
     "data": {
      "text/plain": [
       "'asik'"
      ]
     },
     "execution_count": 32,
     "metadata": {},
     "output_type": "execute_result"
    }
   ],
   "source": [
    "b"
   ]
  },
  {
   "cell_type": "code",
   "execution_count": 33,
   "id": "ffa47616",
   "metadata": {},
   "outputs": [
    {
     "data": {
      "text/plain": [
       "'asik'"
      ]
     },
     "execution_count": 33,
     "metadata": {},
     "output_type": "execute_result"
    }
   ],
   "source": [
    "c"
   ]
  },
  {
   "cell_type": "code",
   "execution_count": 34,
   "id": "f2e1a5f8",
   "metadata": {},
   "outputs": [
    {
     "data": {
      "text/plain": [
       "'asik'"
      ]
     },
     "execution_count": 34,
     "metadata": {},
     "output_type": "execute_result"
    }
   ],
   "source": [
    "d"
   ]
  },
  {
   "cell_type": "code",
   "execution_count": 35,
   "id": "f8c7694b",
   "metadata": {},
   "outputs": [],
   "source": [
    "a,b = 1,2"
   ]
  },
  {
   "cell_type": "code",
   "execution_count": 36,
   "id": "09341675",
   "metadata": {},
   "outputs": [
    {
     "data": {
      "text/plain": [
       "1"
      ]
     },
     "execution_count": 36,
     "metadata": {},
     "output_type": "execute_result"
    }
   ],
   "source": [
    "a"
   ]
  },
  {
   "cell_type": "code",
   "execution_count": 37,
   "id": "7f2de341",
   "metadata": {},
   "outputs": [
    {
     "data": {
      "text/plain": [
       "2"
      ]
     },
     "execution_count": 37,
     "metadata": {},
     "output_type": "execute_result"
    }
   ],
   "source": [
    "b"
   ]
  },
  {
   "cell_type": "code",
   "execution_count": 38,
   "id": "3a7f9ca1",
   "metadata": {},
   "outputs": [],
   "source": [
    "a,b = b,a"
   ]
  },
  {
   "cell_type": "code",
   "execution_count": 39,
   "id": "a5130be4",
   "metadata": {},
   "outputs": [
    {
     "data": {
      "text/plain": [
       "2"
      ]
     },
     "execution_count": 39,
     "metadata": {},
     "output_type": "execute_result"
    }
   ],
   "source": [
    "a"
   ]
  },
  {
   "cell_type": "code",
   "execution_count": 40,
   "id": "1866916b",
   "metadata": {},
   "outputs": [
    {
     "data": {
      "text/plain": [
       "1"
      ]
     },
     "execution_count": 40,
     "metadata": {},
     "output_type": "execute_result"
    }
   ],
   "source": [
    "b"
   ]
  },
  {
   "cell_type": "code",
   "execution_count": 41,
   "id": "5d60f77e",
   "metadata": {},
   "outputs": [],
   "source": [
    "Tas = ('kamu', 90, 9.5, [1,3,4,5])"
   ]
  },
  {
   "cell_type": "code",
   "execution_count": 42,
   "id": "b3a15d6a",
   "metadata": {},
   "outputs": [
    {
     "data": {
      "text/plain": [
       "('kamu', 90, 9.5, [1, 3, 4, 5])"
      ]
     },
     "execution_count": 42,
     "metadata": {},
     "output_type": "execute_result"
    }
   ],
   "source": [
    "Tas"
   ]
  },
  {
   "cell_type": "code",
   "execution_count": 43,
   "id": "7aa39b5a",
   "metadata": {},
   "outputs": [
    {
     "ename": "ValueError",
     "evalue": "not enough values to unpack (expected 5, got 4)",
     "output_type": "error",
     "traceback": [
      "\u001b[1;31m---------------------------------------------------------------------------\u001b[0m",
      "\u001b[1;31mValueError\u001b[0m                                Traceback (most recent call last)",
      "\u001b[1;32m~\\AppData\\Local\\Temp\\ipykernel_9032\\2550065688.py\u001b[0m in \u001b[0;36m<module>\u001b[1;34m\u001b[0m\n\u001b[1;32m----> 1\u001b[1;33m \u001b[0mitem1\u001b[0m\u001b[1;33m,\u001b[0m\u001b[0mitem2\u001b[0m\u001b[1;33m,\u001b[0m\u001b[0mitem3\u001b[0m\u001b[1;33m,\u001b[0m\u001b[0mitem4\u001b[0m\u001b[1;33m,\u001b[0m\u001b[0mitem5\u001b[0m \u001b[1;33m=\u001b[0m \u001b[0mTas\u001b[0m\u001b[1;33m\u001b[0m\u001b[1;33m\u001b[0m\u001b[0m\n\u001b[0m",
      "\u001b[1;31mValueError\u001b[0m: not enough values to unpack (expected 5, got 4)"
     ]
    }
   ],
   "source": [
    "item1,item2,item3,item4,item5 = Tas #error karena jumlah item melebihi tuples"
   ]
  },
  {
   "cell_type": "code",
   "execution_count": 44,
   "id": "c526909a",
   "metadata": {},
   "outputs": [],
   "source": [
    "item1,item2,item3,item4 = Tas"
   ]
  },
  {
   "cell_type": "code",
   "execution_count": 47,
   "id": "09d0c831",
   "metadata": {},
   "outputs": [
    {
     "data": {
      "text/plain": [
       "'kamu'"
      ]
     },
     "execution_count": 47,
     "metadata": {},
     "output_type": "execute_result"
    }
   ],
   "source": [
    "item1"
   ]
  },
  {
   "cell_type": "code",
   "execution_count": 48,
   "id": "e0feba62",
   "metadata": {},
   "outputs": [
    {
     "data": {
      "text/plain": [
       "90"
      ]
     },
     "execution_count": 48,
     "metadata": {},
     "output_type": "execute_result"
    }
   ],
   "source": [
    "item2"
   ]
  },
  {
   "cell_type": "code",
   "execution_count": 49,
   "id": "b9b1c9ab",
   "metadata": {},
   "outputs": [
    {
     "data": {
      "text/plain": [
       "9.5"
      ]
     },
     "execution_count": 49,
     "metadata": {},
     "output_type": "execute_result"
    }
   ],
   "source": [
    "item3"
   ]
  },
  {
   "cell_type": "code",
   "execution_count": 50,
   "id": "ea39634f",
   "metadata": {},
   "outputs": [
    {
     "data": {
      "text/plain": [
       "[1, 3, 4, 5]"
      ]
     },
     "execution_count": 50,
     "metadata": {},
     "output_type": "execute_result"
    }
   ],
   "source": [
    "item4"
   ]
  },
  {
   "cell_type": "code",
   "execution_count": null,
   "id": "d1f6d37e",
   "metadata": {},
   "outputs": [],
   "source": []
  }
 ],
 "metadata": {
  "kernelspec": {
   "display_name": "Python 3 (ipykernel)",
   "language": "python",
   "name": "python3"
  },
  "language_info": {
   "codemirror_mode": {
    "name": "ipython",
    "version": 3
   },
   "file_extension": ".py",
   "mimetype": "text/x-python",
   "name": "python",
   "nbconvert_exporter": "python",
   "pygments_lexer": "ipython3",
   "version": "3.9.13"
  }
 },
 "nbformat": 4,
 "nbformat_minor": 5
}
