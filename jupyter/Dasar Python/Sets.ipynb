{
 "cells": [
  {
   "cell_type": "markdown",
   "id": "ceb81776",
   "metadata": {},
   "source": [
    "### Sets "
   ]
  },
  {
   "cell_type": "markdown",
   "id": "6418f3a6",
   "metadata": {},
   "source": [
    "### ialah tipe data  untuk elemen yang bersifat unik(tanpa duplikasi) dan tidak berurutan"
   ]
  },
  {
   "cell_type": "code",
   "execution_count": 1,
   "id": "63cfd4fb",
   "metadata": {},
   "outputs": [],
   "source": [
    "set1 = set()"
   ]
  },
  {
   "cell_type": "code",
   "execution_count": 2,
   "id": "af59c1e2",
   "metadata": {},
   "outputs": [
    {
     "data": {
      "text/plain": [
       "set()"
      ]
     },
     "execution_count": 2,
     "metadata": {},
     "output_type": "execute_result"
    }
   ],
   "source": [
    "set1"
   ]
  },
  {
   "cell_type": "code",
   "execution_count": 3,
   "id": "cda9beed",
   "metadata": {},
   "outputs": [],
   "source": [
    "set1.add('biru')"
   ]
  },
  {
   "cell_type": "code",
   "execution_count": 4,
   "id": "5069df32",
   "metadata": {},
   "outputs": [
    {
     "data": {
      "text/plain": [
       "{'biru'}"
      ]
     },
     "execution_count": 4,
     "metadata": {},
     "output_type": "execute_result"
    }
   ],
   "source": [
    "set1"
   ]
  },
  {
   "cell_type": "code",
   "execution_count": 5,
   "id": "642d6c19",
   "metadata": {},
   "outputs": [],
   "source": [
    "set1.add('merah')"
   ]
  },
  {
   "cell_type": "code",
   "execution_count": 6,
   "id": "2eda9d57",
   "metadata": {},
   "outputs": [
    {
     "data": {
      "text/plain": [
       "{'biru', 'merah'}"
      ]
     },
     "execution_count": 6,
     "metadata": {},
     "output_type": "execute_result"
    }
   ],
   "source": [
    "set1"
   ]
  },
  {
   "cell_type": "code",
   "execution_count": 7,
   "id": "5e496121",
   "metadata": {},
   "outputs": [],
   "source": [
    "list_motor = {'beat','vario','vixion','nmax'}"
   ]
  },
  {
   "cell_type": "code",
   "execution_count": 9,
   "id": "d9e596ba",
   "metadata": {},
   "outputs": [],
   "source": [
    "set_motor = set(list_motor)"
   ]
  },
  {
   "cell_type": "code",
   "execution_count": 10,
   "id": "ed499223",
   "metadata": {},
   "outputs": [
    {
     "data": {
      "text/plain": [
       "{'beat', 'nmax', 'vario', 'vixion'}"
      ]
     },
     "execution_count": 10,
     "metadata": {},
     "output_type": "execute_result"
    }
   ],
   "source": [
    "set_motor "
   ]
  },
  {
   "cell_type": "code",
   "execution_count": 11,
   "id": "82d69a57",
   "metadata": {},
   "outputs": [
    {
     "data": {
      "text/plain": [
       "set"
      ]
     },
     "execution_count": 11,
     "metadata": {},
     "output_type": "execute_result"
    }
   ],
   "source": [
    "type(set_motor)"
   ]
  },
  {
   "cell_type": "code",
   "execution_count": null,
   "id": "335a4436",
   "metadata": {},
   "outputs": [],
   "source": []
  }
 ],
 "metadata": {
  "kernelspec": {
   "display_name": "Python 3 (ipykernel)",
   "language": "python",
   "name": "python3"
  },
  "language_info": {
   "codemirror_mode": {
    "name": "ipython",
    "version": 3
   },
   "file_extension": ".py",
   "mimetype": "text/x-python",
   "name": "python",
   "nbconvert_exporter": "python",
   "pygments_lexer": "ipython3",
   "version": "3.9.13"
  }
 },
 "nbformat": 4,
 "nbformat_minor": 5
}
