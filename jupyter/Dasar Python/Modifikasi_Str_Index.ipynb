{
 "cells": [
  {
   "cell_type": "markdown",
   "id": "b71c57a3",
   "metadata": {},
   "source": [
    "## Modifikasi String dan Index"
   ]
  },
  {
   "cell_type": "code",
   "execution_count": 1,
   "id": "90914fe2",
   "metadata": {},
   "outputs": [],
   "source": [
    "var1 = [1,2,3,4,5]"
   ]
  },
  {
   "cell_type": "code",
   "execution_count": 2,
   "id": "665ba349",
   "metadata": {},
   "outputs": [],
   "source": [
    "var1[1] = 100"
   ]
  },
  {
   "cell_type": "code",
   "execution_count": 3,
   "id": "af952f72",
   "metadata": {},
   "outputs": [
    {
     "data": {
      "text/plain": [
       "[1, 100, 3, 4, 5]"
      ]
     },
     "execution_count": 3,
     "metadata": {},
     "output_type": "execute_result"
    }
   ],
   "source": [
    "var1"
   ]
  },
  {
   "cell_type": "code",
   "execution_count": 4,
   "id": "948241b0",
   "metadata": {},
   "outputs": [],
   "source": [
    "nama1 = \"Bambang\""
   ]
  },
  {
   "cell_type": "code",
   "execution_count": 5,
   "id": "f2725766",
   "metadata": {},
   "outputs": [
    {
     "data": {
      "text/plain": [
       "'Bam'"
      ]
     },
     "execution_count": 5,
     "metadata": {},
     "output_type": "execute_result"
    }
   ],
   "source": [
    "nama1[:3]"
   ]
  },
  {
   "cell_type": "code",
   "execution_count": 6,
   "id": "f73ffea1",
   "metadata": {
    "scrolled": true
   },
   "outputs": [
    {
     "ename": "TypeError",
     "evalue": "'str' object does not support item assignment",
     "output_type": "error",
     "traceback": [
      "\u001b[1;31m---------------------------------------------------------------------------\u001b[0m",
      "\u001b[1;31mTypeError\u001b[0m                                 Traceback (most recent call last)",
      "\u001b[1;32m~\\AppData\\Local\\Temp\\ipykernel_2568\\243514408.py\u001b[0m in \u001b[0;36m<module>\u001b[1;34m\u001b[0m\n\u001b[1;32m----> 1\u001b[1;33m \u001b[0mnama1\u001b[0m\u001b[1;33m[\u001b[0m\u001b[1;36m2\u001b[0m\u001b[1;33m]\u001b[0m \u001b[1;33m=\u001b[0m \u001b[1;34m\"z\"\u001b[0m \u001b[1;31m# strings tidak bisa diisi kan data / immutable\u001b[0m\u001b[1;33m\u001b[0m\u001b[1;33m\u001b[0m\u001b[0m\n\u001b[0m",
      "\u001b[1;31mTypeError\u001b[0m: 'str' object does not support item assignment"
     ]
    }
   ],
   "source": [
    "nama1[2] = \"z\" # strings tidak bisa diisi kan data / immutable"
   ]
  },
  {
   "cell_type": "code",
   "execution_count": 7,
   "id": "90c4a62d",
   "metadata": {},
   "outputs": [
    {
     "data": {
      "text/plain": [
       "'Bambang Lukito'"
      ]
     },
     "execution_count": 7,
     "metadata": {},
     "output_type": "execute_result"
    }
   ],
   "source": [
    "nama1 + ' Lukito'"
   ]
  },
  {
   "cell_type": "code",
   "execution_count": 8,
   "id": "59b3d601",
   "metadata": {},
   "outputs": [],
   "source": [
    "nama_lengkap = nama1 + ' Suyitno'"
   ]
  },
  {
   "cell_type": "code",
   "execution_count": 9,
   "id": "7d482bdb",
   "metadata": {},
   "outputs": [
    {
     "data": {
      "text/plain": [
       "'Bambang Suyitno'"
      ]
     },
     "execution_count": 9,
     "metadata": {},
     "output_type": "execute_result"
    }
   ],
   "source": [
    "nama_lengkap"
   ]
  },
  {
   "cell_type": "code",
   "execution_count": 10,
   "id": "f57d8865",
   "metadata": {},
   "outputs": [
    {
     "data": {
      "text/plain": [
       "'BambangBambangBambang'"
      ]
     },
     "execution_count": 10,
     "metadata": {},
     "output_type": "execute_result"
    }
   ],
   "source": [
    "nama1*3"
   ]
  },
  {
   "cell_type": "code",
   "execution_count": 11,
   "id": "206fd0a9",
   "metadata": {},
   "outputs": [
    {
     "data": {
      "text/plain": [
       "'Bambang sedang belanja di pasar sedang belanja di pasar'"
      ]
     },
     "execution_count": 11,
     "metadata": {},
     "output_type": "execute_result"
    }
   ],
   "source": [
    "nama1 + \" sedang belanja di pasar\" * 2"
   ]
  },
  {
   "cell_type": "code",
   "execution_count": 12,
   "id": "e98d3bb6",
   "metadata": {},
   "outputs": [],
   "source": [
    "nama1 = nama1 + nama_lengkap"
   ]
  },
  {
   "cell_type": "code",
   "execution_count": 13,
   "id": "c99b42f3",
   "metadata": {},
   "outputs": [
    {
     "data": {
      "text/plain": [
       "'BambangBambang Suyitno'"
      ]
     },
     "execution_count": 13,
     "metadata": {},
     "output_type": "execute_result"
    }
   ],
   "source": [
    "nama1"
   ]
  },
  {
   "cell_type": "code",
   "execution_count": null,
   "id": "424d6c0d",
   "metadata": {},
   "outputs": [],
   "source": []
  }
 ],
 "metadata": {
  "kernelspec": {
   "display_name": "Python 3 (ipykernel)",
   "language": "python",
   "name": "python3"
  },
  "language_info": {
   "codemirror_mode": {
    "name": "ipython",
    "version": 3
   },
   "file_extension": ".py",
   "mimetype": "text/x-python",
   "name": "python",
   "nbconvert_exporter": "python",
   "pygments_lexer": "ipython3",
   "version": "3.9.13"
  }
 },
 "nbformat": 4,
 "nbformat_minor": 5
}
