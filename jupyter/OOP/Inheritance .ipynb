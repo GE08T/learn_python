{
 "cells": [
  {
   "cell_type": "markdown",
   "id": "51cdd053",
   "metadata": {},
   "source": [
    "# Inheritance"
   ]
  },
  {
   "cell_type": "code",
   "execution_count": 5,
   "id": "131a7b6c",
   "metadata": {},
   "outputs": [],
   "source": [
    "#menjadi class induk \n",
    "class Mahasiswa:\n",
    "    \n",
    "    status = 'mahasiswa'\n",
    "    \n",
    "    def __init__(self, nama, kelas):\n",
    "        self.nama = nama\n",
    "        self.kelas = kelas\n",
    "        \n",
    "    def keterangan(self):\n",
    "        print('{} di kelas {} adalah seorang {}'.format(self.nama, self.kelas, self.status))"
   ]
  },
  {
   "cell_type": "code",
   "execution_count": 6,
   "id": "720817d3",
   "metadata": {},
   "outputs": [],
   "source": [
    "m1 = Mahasiswa('Galung Erlyan Tama', 'Semester 5 TI')"
   ]
  },
  {
   "cell_type": "code",
   "execution_count": 8,
   "id": "679c8d90",
   "metadata": {},
   "outputs": [
    {
     "name": "stdout",
     "output_type": "stream",
     "text": [
      "Galung Erlyan Tama di kelas Semester 5 TI adalah seorang mahasiswa\n"
     ]
    }
   ],
   "source": [
    "m1.keterangan()"
   ]
  },
  {
   "cell_type": "code",
   "execution_count": 10,
   "id": "ebc41eb4",
   "metadata": {},
   "outputs": [],
   "source": [
    "#deklarasi inheritance dengan nama nilai\n",
    "class Nilai(Mahasiswa):\n",
    "\n",
    "    def __init__(self, nama, kelas):\n",
    "        super().__init__(nama, kelas)\n",
    "        #Mahasiswa.__init__(nama, kelas) atau seperti ini\n",
    "        self.nilai_update = []\n",
    "    \n",
    "    def input_nilai(self, tambah):\n",
    "        return self.nilai_update.append(tambah)"
   ]
  },
  {
   "cell_type": "code",
   "execution_count": 11,
   "id": "6ed95d44",
   "metadata": {},
   "outputs": [],
   "source": [
    "budi = Nilai('Budi', '9')"
   ]
  },
  {
   "cell_type": "code",
   "execution_count": 13,
   "id": "268fe33c",
   "metadata": {},
   "outputs": [],
   "source": [
    "budi.input_nilai([90,90,90])"
   ]
  },
  {
   "cell_type": "code",
   "execution_count": 14,
   "id": "8d4f1349",
   "metadata": {},
   "outputs": [
    {
     "data": {
      "text/plain": [
       "[[90, 90, 90]]"
      ]
     },
     "execution_count": 14,
     "metadata": {},
     "output_type": "execute_result"
    }
   ],
   "source": [
    "budi.nilai_update"
   ]
  },
  {
   "cell_type": "code",
   "execution_count": 16,
   "id": "a3969c4a",
   "metadata": {},
   "outputs": [
    {
     "name": "stdout",
     "output_type": "stream",
     "text": [
      "Budi di kelas 9 adalah seorang mahasiswa\n"
     ]
    }
   ],
   "source": [
    "#kelas anakan akan memiliki semua atribut dan method indukan\n",
    "budi.keterangan()"
   ]
  },
  {
   "cell_type": "code",
   "execution_count": null,
   "id": "9d886ac0",
   "metadata": {},
   "outputs": [],
   "source": []
  }
 ],
 "metadata": {
  "kernelspec": {
   "display_name": "Python 3 (ipykernel)",
   "language": "python",
   "name": "python3"
  },
  "language_info": {
   "codemirror_mode": {
    "name": "ipython",
    "version": 3
   },
   "file_extension": ".py",
   "mimetype": "text/x-python",
   "name": "python",
   "nbconvert_exporter": "python",
   "pygments_lexer": "ipython3",
   "version": "3.9.13"
  }
 },
 "nbformat": 4,
 "nbformat_minor": 5
}
