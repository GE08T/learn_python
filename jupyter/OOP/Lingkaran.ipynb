{
 "cells": [
  {
   "cell_type": "markdown",
   "id": "2dc15efd",
   "metadata": {},
   "source": [
    "## Membuat Keliling Lingkaran"
   ]
  },
  {
   "cell_type": "code",
   "execution_count": 35,
   "id": "178d8cdd",
   "metadata": {},
   "outputs": [],
   "source": [
    "class lingkaran:\n",
    "    \n",
    "    #koefisien phi\n",
    "    phi = 3.14\n",
    "    \n",
    "    def __init__(self, radius):\n",
    "        self.radius = radius\n",
    "        self.luas = 2*self.phi*radius*radius\n",
    "        \n",
    "    def keliling(self):\n",
    "        return 2*self.phi*self.radius"
   ]
  },
  {
   "cell_type": "code",
   "execution_count": 36,
   "id": "c7d7723d",
   "metadata": {},
   "outputs": [],
   "source": [
    "l1 = lingkaran(70)"
   ]
  },
  {
   "cell_type": "code",
   "execution_count": 37,
   "id": "a7501c59",
   "metadata": {},
   "outputs": [
    {
     "data": {
      "text/plain": [
       "439.6"
      ]
     },
     "execution_count": 37,
     "metadata": {},
     "output_type": "execute_result"
    }
   ],
   "source": [
    "l1.keliling()"
   ]
  },
  {
   "cell_type": "code",
   "execution_count": 38,
   "id": "9962ddd2",
   "metadata": {},
   "outputs": [
    {
     "data": {
      "text/plain": [
       "30772.0"
      ]
     },
     "execution_count": 38,
     "metadata": {},
     "output_type": "execute_result"
    }
   ],
   "source": [
    "#tidak menggunakan () karena berdiri di init\n",
    "l1.luas"
   ]
  },
  {
   "cell_type": "code",
   "execution_count": null,
   "id": "9b1079b4",
   "metadata": {},
   "outputs": [],
   "source": []
  }
 ],
 "metadata": {
  "kernelspec": {
   "display_name": "Python 3 (ipykernel)",
   "language": "python",
   "name": "python3"
  },
  "language_info": {
   "codemirror_mode": {
    "name": "ipython",
    "version": 3
   },
   "file_extension": ".py",
   "mimetype": "text/x-python",
   "name": "python",
   "nbconvert_exporter": "python",
   "pygments_lexer": "ipython3",
   "version": "3.9.13"
  }
 },
 "nbformat": 4,
 "nbformat_minor": 5
}
