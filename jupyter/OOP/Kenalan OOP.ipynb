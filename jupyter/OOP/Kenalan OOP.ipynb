{
 "cells": [
  {
   "cell_type": "markdown",
   "id": "f67a1b58",
   "metadata": {},
   "source": [
    "# Mengenal OOP"
   ]
  },
  {
   "cell_type": "code",
   "execution_count": 3,
   "id": "a6b312f4",
   "metadata": {},
   "outputs": [
    {
     "name": "stdout",
     "output_type": "stream",
     "text": [
      "<class 'list'>\n",
      "<class 'dict'>\n",
      "<class 'str'>\n",
      "<class 'int'>\n",
      "<class 'float'>\n",
      "<class 'tuple'>\n",
      "<class 'bool'>\n",
      "<class 'NoneType'>\n"
     ]
    }
   ],
   "source": [
    "# Semua type data di python adalah class / object\n",
    "print(type([]))\n",
    "print(type({}))\n",
    "print(type('string'))\n",
    "print(type(90)) \n",
    "print(type(15.232))\n",
    "print(type(()))\n",
    "print(type(True))\n",
    "print(type(None))"
   ]
  },
  {
   "cell_type": "markdown",
   "id": "469274f7",
   "metadata": {},
   "source": [
    "### OOP memungkinkan kita membuat class sendiri, termasuk attribute dan method nya "
   ]
  },
  {
   "cell_type": "markdown",
   "id": "27673207",
   "metadata": {},
   "source": [
    "## Mendefinisikan Class / Object"
   ]
  },
  {
   "cell_type": "code",
   "execution_count": 9,
   "id": "8f56341d",
   "metadata": {},
   "outputs": [],
   "source": [
    "class Nama:\n",
    "    pass"
   ]
  },
  {
   "cell_type": "code",
   "execution_count": 99,
   "id": "53608933",
   "metadata": {},
   "outputs": [],
   "source": [
    "#self,nama,pengguna adalah attribute\n",
    "#self adalah representasi dari barang 1 / variable yang memuat kelas game\n",
    "class Game:\n",
    "    \n",
    "    #class object attribute (attribute ini bersifat global)\n",
    "    pengembang = 'Moonton'\n",
    "    \n",
    "    def __init__(self, nama, pengguna):\n",
    "        self.nama = nama\n",
    "        self.pengguna = pengguna\n",
    "        #bisa menambah attribute\n",
    "        self.server = ['Asia', 'Amerika']\n",
    "        self.ukuran = 10\n",
    "    \n",
    "    #tempat tidak menggunakan self karena sudah dalam 1 scope yang sama\n",
    "    #bisa di tuliskan langsung default value nya\n",
    "    def keterangan(self, tempat = 'London'):\n",
    "        print('Game moba {} dengan jumlah pengguna {}, di kembangkan oleh perusahaan {} yang bertempat di {}'.format(self.nama, self.pengguna, self.pengembang, tempat))"
   ]
  },
  {
   "cell_type": "code",
   "execution_count": 100,
   "id": "a17592ec",
   "metadata": {},
   "outputs": [],
   "source": [
    "barang1 = Game('Clash Of Clans','10M')"
   ]
  },
  {
   "cell_type": "code",
   "execution_count": 101,
   "id": "11d2946b",
   "metadata": {},
   "outputs": [
    {
     "data": {
      "text/plain": [
       "'10M'"
      ]
     },
     "execution_count": 101,
     "metadata": {},
     "output_type": "execute_result"
    }
   ],
   "source": [
    "barang1.pengguna"
   ]
  },
  {
   "cell_type": "code",
   "execution_count": 102,
   "id": "14bc8c5c",
   "metadata": {},
   "outputs": [],
   "source": [
    "barang = Game('Mobile Legends','1b')"
   ]
  },
  {
   "cell_type": "code",
   "execution_count": 103,
   "id": "c9451b92",
   "metadata": {},
   "outputs": [
    {
     "data": {
      "text/plain": [
       "['Asia', 'Amerika']"
      ]
     },
     "execution_count": 103,
     "metadata": {},
     "output_type": "execute_result"
    }
   ],
   "source": [
    "barang.server"
   ]
  },
  {
   "cell_type": "code",
   "execution_count": 104,
   "id": "af6efda7",
   "metadata": {},
   "outputs": [
    {
     "data": {
      "text/plain": [
       "10"
      ]
     },
     "execution_count": 104,
     "metadata": {},
     "output_type": "execute_result"
    }
   ],
   "source": [
    "barang.ukuran"
   ]
  },
  {
   "cell_type": "code",
   "execution_count": 105,
   "id": "549494d8",
   "metadata": {},
   "outputs": [
    {
     "data": {
      "text/plain": [
       "'Moonton'"
      ]
     },
     "execution_count": 105,
     "metadata": {},
     "output_type": "execute_result"
    }
   ],
   "source": [
    "barang.pengembang"
   ]
  },
  {
   "cell_type": "code",
   "execution_count": 106,
   "id": "913c972a",
   "metadata": {},
   "outputs": [
    {
     "name": "stdout",
     "output_type": "stream",
     "text": [
      "Game moba Mobile Legends dengan jumlah pengguna 1b, di kembangkan oleh perusahaan Moonton yang bertempat di London\n"
     ]
    }
   ],
   "source": [
    "#menjalankan method selain init dengan menggunakan attribute \n",
    "barang.keterangan()"
   ]
  },
  {
   "cell_type": "code",
   "execution_count": null,
   "id": "45f2b787",
   "metadata": {},
   "outputs": [],
   "source": []
  }
 ],
 "metadata": {
  "kernelspec": {
   "display_name": "Python 3 (ipykernel)",
   "language": "python",
   "name": "python3"
  },
  "language_info": {
   "codemirror_mode": {
    "name": "ipython",
    "version": 3
   },
   "file_extension": ".py",
   "mimetype": "text/x-python",
   "name": "python",
   "nbconvert_exporter": "python",
   "pygments_lexer": "ipython3",
   "version": "3.9.13"
  }
 },
 "nbformat": 4,
 "nbformat_minor": 5
}
