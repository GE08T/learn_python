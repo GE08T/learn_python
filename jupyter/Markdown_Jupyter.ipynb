{
 "cells": [
  {
   "cell_type": "markdown",
   "id": "b56ab163",
   "metadata": {},
   "source": [
    "# Belajar Menggunakan Markdown Jupyter"
   ]
  },
  {
   "cell_type": "markdown",
   "id": "9456bd7d",
   "metadata": {},
   "source": [
    "# Heading 1 sampai ###### Heading 6"
   ]
  },
  {
   "cell_type": "markdown",
   "id": "a3d9efb3",
   "metadata": {},
   "source": [
    "Ini *ITALIC* ~CORET~ **BOLD** ***~TEBAL MIRING CORET~***"
   ]
  },
  {
   "cell_type": "markdown",
   "id": "ba8be3ce",
   "metadata": {},
   "source": [
    "> \"Ini Adalah contoh Quote\""
   ]
  },
  {
   "cell_type": "markdown",
   "id": "521b785b",
   "metadata": {},
   "source": [
    "Ini adalah contoh list **Bullets** :\n",
    "* list satu\n",
    "* list dua\n",
    "* list tiga\n",
    "    * list anak tiga    \n",
    "    * list anak tiga"
   ]
  },
  {
   "cell_type": "markdown",
   "id": "50939ff4",
   "metadata": {},
   "source": [
    "Ini adalah contoh list **Angka** :\n",
    "1. list satu\n",
    "2. list dua\n",
    "3. list tiga"
   ]
  },
  {
   "cell_type": "markdown",
   "id": "7e4021c9",
   "metadata": {},
   "source": [
    "\\*tanda ini berhasil digunakan tanpa miring*"
   ]
  },
  {
   "cell_type": "markdown",
   "id": "2c2b6094",
   "metadata": {},
   "source": [
    "### Contoh Gambar\n",
    "![Gambar](gambar/example.png)"
   ]
  },
  {
   "cell_type": "markdown",
   "id": "4369f366",
   "metadata": {},
   "source": [
    "while Looping nonstop dapat di kernel=>restart"
   ]
  },
  {
   "cell_type": "code",
   "execution_count": null,
   "id": "560b28f1",
   "metadata": {},
   "outputs": [],
   "source": []
  }
 ],
 "metadata": {
  "kernelspec": {
   "display_name": "Python 3 (ipykernel)",
   "language": "python",
   "name": "python3"
  },
  "language_info": {
   "codemirror_mode": {
    "name": "ipython",
    "version": 3
   },
   "file_extension": ".py",
   "mimetype": "text/x-python",
   "name": "python",
   "nbconvert_exporter": "python",
   "pygments_lexer": "ipython3",
   "version": "3.9.13"
  }
 },
 "nbformat": 4,
 "nbformat_minor": 5
}
