{
 "cells": [
  {
   "cell_type": "code",
   "execution_count": 1,
   "id": "7ae22180",
   "metadata": {},
   "outputs": [],
   "source": [
    "import numpy as np"
   ]
  },
  {
   "cell_type": "code",
   "execution_count": 2,
   "id": "f9aebe67",
   "metadata": {},
   "outputs": [
    {
     "data": {
      "text/plain": [
       "array([0.70202778, 0.1197799 , 0.75993514, 0.49739785, 0.03699985,\n",
       "       0.35003721, 0.07890082])"
      ]
     },
     "execution_count": 2,
     "metadata": {},
     "output_type": "execute_result"
    }
   ],
   "source": [
    "#membuat bilangan distribusi uniform / random dari (0-1)\n",
    "np.random.rand(7)"
   ]
  },
  {
   "cell_type": "code",
   "execution_count": 3,
   "id": "d88ff93a",
   "metadata": {},
   "outputs": [
    {
     "data": {
      "text/plain": [
       "array([[0.09895538, 0.14549273],\n",
       "       [0.05993805, 0.01146473],\n",
       "       [0.15845933, 0.50763992],\n",
       "       [0.4899287 , 0.58525701],\n",
       "       [0.20598971, 0.86144423]])"
      ]
     },
     "execution_count": 3,
     "metadata": {},
     "output_type": "execute_result"
    }
   ],
   "source": [
    "#membuat bilangan distribusi uniform matriks 2 dimensi\n",
    "np.random.rand(5,2) #5 baris 2 kolom"
   ]
  },
  {
   "cell_type": "code",
   "execution_count": 4,
   "id": "8f17fb0d",
   "metadata": {},
   "outputs": [
    {
     "data": {
      "text/plain": [
       "array([ 0.11522456, -0.01487886, -0.72773877, -0.29860185, -0.51163794,\n",
       "       -0.10472433, -0.19274905, -1.83972335,  1.45652584,  0.55141083])"
      ]
     },
     "execution_count": 4,
     "metadata": {},
     "output_type": "execute_result"
    }
   ],
   "source": [
    "#Bilangan distribusi normal (gaussian) antara mulai dari -tak hingga sampai +tak hingga\n",
    "np.random.randn(10)"
   ]
  },
  {
   "cell_type": "code",
   "execution_count": 5,
   "id": "5078e099",
   "metadata": {},
   "outputs": [
    {
     "data": {
      "text/plain": [
       "array([[ 0.67880798, -0.91816087, -0.12633597,  1.05993706,  0.29097972],\n",
       "       [ 0.06618738, -0.84020471,  0.25064993,  1.37350676, -0.26510519],\n",
       "       [ 1.06230526,  1.86412655, -0.4976814 , -1.31283663,  1.26802061],\n",
       "       [ 0.55358958, -0.32317249,  0.84562184, -0.7019325 ,  0.49892374],\n",
       "       [ 0.49287348, -0.22316287,  0.57960189, -0.49876051, -0.67154152],\n",
       "       [-1.19919723,  0.06305152,  0.31875015,  0.58004422, -0.68425885],\n",
       "       [-0.13970103,  1.04644154, -0.16997469, -0.07865958, -0.10033228],\n",
       "       [ 0.52606233,  1.13527428, -1.44900456,  0.19773126, -0.6279387 ],\n",
       "       [-0.83232125,  0.55302206,  2.03963303, -0.72517898, -1.33000066],\n",
       "       [ 1.56955068,  0.27438358,  0.05897585, -1.3814209 ,  0.3350606 ]])"
      ]
     },
     "execution_count": 5,
     "metadata": {},
     "output_type": "execute_result"
    }
   ],
   "source": [
    "#Bilangan distribusi normal (gaussian) matriks 2 dimensi\n",
    "np.random.randn(10,5)"
   ]
  },
  {
   "cell_type": "code",
   "execution_count": 14,
   "id": "565d3595",
   "metadata": {},
   "outputs": [],
   "source": []
  }
 ],
 "metadata": {
  "kernelspec": {
   "display_name": "Python 3 (ipykernel)",
   "language": "python",
   "name": "python3"
  },
  "language_info": {
   "codemirror_mode": {
    "name": "ipython",
    "version": 3
   },
   "file_extension": ".py",
   "mimetype": "text/x-python",
   "name": "python",
   "nbconvert_exporter": "python",
   "pygments_lexer": "ipython3",
   "version": "3.9.13"
  }
 },
 "nbformat": 4,
 "nbformat_minor": 5
}
