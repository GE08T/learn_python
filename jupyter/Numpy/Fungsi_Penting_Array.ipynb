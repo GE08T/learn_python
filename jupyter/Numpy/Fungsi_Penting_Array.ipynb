{
 "cells": [
  {
   "cell_type": "markdown",
   "id": "3c14dff8",
   "metadata": {},
   "source": [
    "### Fungsi yang biasa dipakai dalam Array"
   ]
  },
  {
   "cell_type": "code",
   "execution_count": 1,
   "id": "a7d36bf1",
   "metadata": {},
   "outputs": [],
   "source": [
    "from numpy.random import randint #agar tidak menulis ulang random setiap menggunakan randint"
   ]
  },
  {
   "cell_type": "code",
   "execution_count": 2,
   "id": "243d7f72",
   "metadata": {},
   "outputs": [],
   "source": [
    "coba1 = randint(0,100,20)"
   ]
  },
  {
   "cell_type": "code",
   "execution_count": 3,
   "id": "160a64c4",
   "metadata": {},
   "outputs": [],
   "source": [
    "coba2 = randint(0,100,20).reshape(4,5)"
   ]
  },
  {
   "cell_type": "code",
   "execution_count": 4,
   "id": "84430a3e",
   "metadata": {},
   "outputs": [
    {
     "data": {
      "text/plain": [
       "array([60, 84, 52, 10, 67, 73, 12, 77, 35, 60, 23, 87, 51, 74,  7, 36, 72,\n",
       "       34, 94, 65])"
      ]
     },
     "execution_count": 4,
     "metadata": {},
     "output_type": "execute_result"
    }
   ],
   "source": [
    "coba1"
   ]
  },
  {
   "cell_type": "code",
   "execution_count": 5,
   "id": "261db6a5",
   "metadata": {},
   "outputs": [
    {
     "data": {
      "text/plain": [
       "array([[53, 65, 87, 96, 93],\n",
       "       [73, 42, 19, 66,  8],\n",
       "       [83, 43, 24, 90, 53],\n",
       "       [34,  6, 22, 55, 66]])"
      ]
     },
     "execution_count": 5,
     "metadata": {},
     "output_type": "execute_result"
    }
   ],
   "source": [
    "coba2"
   ]
  },
  {
   "cell_type": "code",
   "execution_count": 7,
   "id": "9ac512d8",
   "metadata": {},
   "outputs": [],
   "source": [
    "#fungsi untuk mengetahui angka terbesar dan di indeks berapa angka tersebut\n",
    "#biasanya menggunakan fungsi max dan min\n",
    "maxindex = [coba1.max(),coba1.argmax()]\n",
    "minindex = [coba1.min(),coba1.argmin()]"
   ]
  },
  {
   "cell_type": "code",
   "execution_count": 8,
   "id": "dd7d6f57",
   "metadata": {},
   "outputs": [
    {
     "data": {
      "text/plain": [
       "[94, 18]"
      ]
     },
     "execution_count": 8,
     "metadata": {},
     "output_type": "execute_result"
    }
   ],
   "source": [
    "maxindex"
   ]
  },
  {
   "cell_type": "code",
   "execution_count": 9,
   "id": "b29d96f7",
   "metadata": {},
   "outputs": [
    {
     "data": {
      "text/plain": [
       "[7, 14]"
      ]
     },
     "execution_count": 9,
     "metadata": {},
     "output_type": "execute_result"
    }
   ],
   "source": [
    "minindex"
   ]
  },
  {
   "cell_type": "code",
   "execution_count": 10,
   "id": "2ba79673",
   "metadata": {},
   "outputs": [],
   "source": [
    "#untuk coba 2\n",
    "maxindex2 = [coba2.max(),coba2.argmax()] #jika nilai nya dobel mengikut index pertama\n",
    "minindex2 = [coba2.min(),coba2.argmin()]"
   ]
  },
  {
   "cell_type": "code",
   "execution_count": 11,
   "id": "7af36ac8",
   "metadata": {},
   "outputs": [
    {
     "data": {
      "text/plain": [
       "[96, 3]"
      ]
     },
     "execution_count": 11,
     "metadata": {},
     "output_type": "execute_result"
    }
   ],
   "source": [
    "maxindex2"
   ]
  },
  {
   "cell_type": "code",
   "execution_count": 12,
   "id": "949fd547",
   "metadata": {},
   "outputs": [
    {
     "data": {
      "text/plain": [
       "[6, 16]"
      ]
     },
     "execution_count": 12,
     "metadata": {},
     "output_type": "execute_result"
    }
   ],
   "source": [
    "minindex2"
   ]
  },
  {
   "cell_type": "code",
   "execution_count": 13,
   "id": "fa541edc",
   "metadata": {},
   "outputs": [
    {
     "data": {
      "text/plain": [
       "(4, 5)"
      ]
     },
     "execution_count": 13,
     "metadata": {},
     "output_type": "execute_result"
    }
   ],
   "source": [
    "#fungsi untuk mengetahui dimensi array \n",
    "coba2.shape #4 x 5"
   ]
  },
  {
   "cell_type": "code",
   "execution_count": 14,
   "id": "1901e571",
   "metadata": {},
   "outputs": [
    {
     "data": {
      "text/plain": [
       "dtype('int32')"
      ]
     },
     "execution_count": 14,
     "metadata": {},
     "output_type": "execute_result"
    }
   ],
   "source": [
    "#fungsi untuk mengetahui type data dari array\n",
    "coba1.dtype # 32 bit"
   ]
  },
  {
   "cell_type": "code",
   "execution_count": null,
   "id": "79a03083",
   "metadata": {},
   "outputs": [],
   "source": []
  }
 ],
 "metadata": {
  "kernelspec": {
   "display_name": "Python 3 (ipykernel)",
   "language": "python",
   "name": "python3"
  },
  "language_info": {
   "codemirror_mode": {
    "name": "ipython",
    "version": 3
   },
   "file_extension": ".py",
   "mimetype": "text/x-python",
   "name": "python",
   "nbconvert_exporter": "python",
   "pygments_lexer": "ipython3",
   "version": "3.9.13"
  }
 },
 "nbformat": 4,
 "nbformat_minor": 5
}
