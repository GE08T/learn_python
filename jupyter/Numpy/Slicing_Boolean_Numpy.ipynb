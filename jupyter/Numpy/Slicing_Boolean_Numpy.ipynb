{
 "cells": [
  {
   "cell_type": "markdown",
   "id": "eaf0b4bd",
   "metadata": {},
   "source": [
    "## Slicing with Boolean"
   ]
  },
  {
   "cell_type": "code",
   "execution_count": 1,
   "id": "602f52ed",
   "metadata": {},
   "outputs": [],
   "source": [
    "import numpy as np"
   ]
  },
  {
   "cell_type": "code",
   "execution_count": 16,
   "id": "9a82b7aa",
   "metadata": {},
   "outputs": [],
   "source": [
    "bilangan = np.arange(1,11)"
   ]
  },
  {
   "cell_type": "code",
   "execution_count": 17,
   "id": "a145d482",
   "metadata": {},
   "outputs": [
    {
     "data": {
      "text/plain": [
       "array([ 1,  2,  3,  4,  5,  6,  7,  8,  9, 10])"
      ]
     },
     "execution_count": 17,
     "metadata": {},
     "output_type": "execute_result"
    }
   ],
   "source": [
    "bilangan"
   ]
  },
  {
   "cell_type": "code",
   "execution_count": 11,
   "id": "7afa0865",
   "metadata": {},
   "outputs": [],
   "source": [
    "#cara lama\n",
    "true_angka = bilangan < 5 #filter yang di ingin kan"
   ]
  },
  {
   "cell_type": "code",
   "execution_count": 12,
   "id": "ccc74d04",
   "metadata": {},
   "outputs": [
    {
     "data": {
      "text/plain": [
       "array([ True,  True,  True,  True])"
      ]
     },
     "execution_count": 12,
     "metadata": {},
     "output_type": "execute_result"
    }
   ],
   "source": [
    "true_angka"
   ]
  },
  {
   "cell_type": "code",
   "execution_count": 13,
   "id": "1ac11b07",
   "metadata": {},
   "outputs": [],
   "source": [
    "bilangan = bilangan[true_angka] #yang true dimasukan kedalam bilangan"
   ]
  },
  {
   "cell_type": "code",
   "execution_count": 14,
   "id": "80d6b314",
   "metadata": {},
   "outputs": [
    {
     "data": {
      "text/plain": [
       "array([1, 2, 3, 4])"
      ]
     },
     "execution_count": 14,
     "metadata": {},
     "output_type": "execute_result"
    }
   ],
   "source": [
    "bilangan"
   ]
  },
  {
   "cell_type": "code",
   "execution_count": 18,
   "id": "1f3da13a",
   "metadata": {},
   "outputs": [],
   "source": [
    "#cara cepat \n",
    "bilangan = bilangan[bilangan < 5]"
   ]
  },
  {
   "cell_type": "code",
   "execution_count": 19,
   "id": "1cf8f77a",
   "metadata": {},
   "outputs": [
    {
     "data": {
      "text/plain": [
       "array([1, 2, 3, 4])"
      ]
     },
     "execution_count": 19,
     "metadata": {},
     "output_type": "execute_result"
    }
   ],
   "source": [
    "bilangan"
   ]
  },
  {
   "cell_type": "code",
   "execution_count": null,
   "id": "4af1d3cf",
   "metadata": {},
   "outputs": [],
   "source": []
  }
 ],
 "metadata": {
  "kernelspec": {
   "display_name": "Python 3 (ipykernel)",
   "language": "python",
   "name": "python3"
  },
  "language_info": {
   "codemirror_mode": {
    "name": "ipython",
    "version": 3
   },
   "file_extension": ".py",
   "mimetype": "text/x-python",
   "name": "python",
   "nbconvert_exporter": "python",
   "pygments_lexer": "ipython3",
   "version": "3.9.13"
  }
 },
 "nbformat": 4,
 "nbformat_minor": 5
}
