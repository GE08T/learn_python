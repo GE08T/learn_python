{
 "cells": [
  {
   "cell_type": "markdown",
   "id": "70e593b2",
   "metadata": {},
   "source": [
    "### Random Integer"
   ]
  },
  {
   "cell_type": "code",
   "execution_count": 8,
   "id": "4dd8d2fb",
   "metadata": {},
   "outputs": [],
   "source": [
    "import numpy as np"
   ]
  },
  {
   "cell_type": "code",
   "execution_count": 9,
   "id": "c6c3e918",
   "metadata": {},
   "outputs": [],
   "source": [
    "#mengenerate integer\n",
    "bilangan = np.random.randint(1,10,10) #1 = mulai, 10 = akhir, 10 = banyak generate"
   ]
  },
  {
   "cell_type": "code",
   "execution_count": 10,
   "id": "e7ca973c",
   "metadata": {},
   "outputs": [
    {
     "data": {
      "text/plain": [
       "array([6, 8, 8, 6, 6, 3, 7, 8, 1, 7])"
      ]
     },
     "execution_count": 10,
     "metadata": {},
     "output_type": "execute_result"
    }
   ],
   "source": [
    "bilangan"
   ]
  },
  {
   "cell_type": "code",
   "execution_count": 11,
   "id": "f611da4a",
   "metadata": {},
   "outputs": [],
   "source": [
    "#dalam randint indeks terakhir tidak di ikutkan\n",
    "coba = np.random.randint(0,10,20).reshape(5,4)"
   ]
  },
  {
   "cell_type": "code",
   "execution_count": 12,
   "id": "48c905b4",
   "metadata": {},
   "outputs": [
    {
     "data": {
      "text/plain": [
       "array([[4, 3, 4, 4],\n",
       "       [1, 3, 2, 3],\n",
       "       [3, 6, 5, 6],\n",
       "       [4, 1, 0, 3],\n",
       "       [2, 9, 4, 9]])"
      ]
     },
     "execution_count": 12,
     "metadata": {},
     "output_type": "execute_result"
    }
   ],
   "source": [
    "coba"
   ]
  },
  {
   "cell_type": "code",
   "execution_count": 13,
   "id": "06a659fe",
   "metadata": {},
   "outputs": [
    {
     "data": {
      "text/plain": [
       "array([[4, 3, 4, 4, 1, 3, 2, 3, 3, 6],\n",
       "       [5, 6, 4, 1, 0, 3, 2, 9, 4, 9]])"
      ]
     },
     "execution_count": 13,
     "metadata": {},
     "output_type": "execute_result"
    }
   ],
   "source": [
    "coba.reshape(2,10) #hanya mengubah struktur matriks ke 2 x 10"
   ]
  },
  {
   "cell_type": "code",
   "execution_count": 18,
   "id": "79288811",
   "metadata": {},
   "outputs": [],
   "source": []
  }
 ],
 "metadata": {
  "kernelspec": {
   "display_name": "Python 3 (ipykernel)",
   "language": "python",
   "name": "python3"
  },
  "language_info": {
   "codemirror_mode": {
    "name": "ipython",
    "version": 3
   },
   "file_extension": ".py",
   "mimetype": "text/x-python",
   "name": "python",
   "nbconvert_exporter": "python",
   "pygments_lexer": "ipython3",
   "version": "3.9.13"
  }
 },
 "nbformat": 4,
 "nbformat_minor": 5
}
