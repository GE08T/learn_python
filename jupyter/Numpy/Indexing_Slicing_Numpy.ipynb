{
 "cells": [
  {
   "cell_type": "markdown",
   "id": "48dd4001",
   "metadata": {},
   "source": [
    "## Indexing in Numpy"
   ]
  },
  {
   "cell_type": "code",
   "execution_count": 1,
   "id": "d5672972",
   "metadata": {},
   "outputs": [],
   "source": [
    "import numpy as np"
   ]
  },
  {
   "cell_type": "code",
   "execution_count": 3,
   "id": "90d03261",
   "metadata": {},
   "outputs": [],
   "source": [
    "coba = np.arange(0,11)"
   ]
  },
  {
   "cell_type": "code",
   "execution_count": 4,
   "id": "dcab9982",
   "metadata": {},
   "outputs": [
    {
     "data": {
      "text/plain": [
       "array([ 0,  1,  2,  3,  4,  5,  6,  7,  8,  9, 10])"
      ]
     },
     "execution_count": 4,
     "metadata": {},
     "output_type": "execute_result"
    }
   ],
   "source": [
    "coba"
   ]
  },
  {
   "cell_type": "code",
   "execution_count": 6,
   "id": "5d4daa49",
   "metadata": {},
   "outputs": [
    {
     "data": {
      "text/plain": [
       "6"
      ]
     },
     "execution_count": 6,
     "metadata": {},
     "output_type": "execute_result"
    }
   ],
   "source": [
    "#indexing\n",
    "coba[6]"
   ]
  },
  {
   "cell_type": "code",
   "execution_count": 10,
   "id": "aef35946",
   "metadata": {},
   "outputs": [
    {
     "data": {
      "text/plain": [
       "array([ 3,  4,  5,  6,  7,  8,  9, 10])"
      ]
     },
     "execution_count": 10,
     "metadata": {},
     "output_type": "execute_result"
    }
   ],
   "source": [
    "#slicing\n",
    "coba[3:]"
   ]
  },
  {
   "cell_type": "code",
   "execution_count": 11,
   "id": "433a1395",
   "metadata": {},
   "outputs": [
    {
     "data": {
      "text/plain": [
       "array([0, 1, 2, 3, 4, 5, 6, 7])"
      ]
     },
     "execution_count": 11,
     "metadata": {},
     "output_type": "execute_result"
    }
   ],
   "source": [
    "coba[:8]"
   ]
  },
  {
   "cell_type": "code",
   "execution_count": 12,
   "id": "77024d36",
   "metadata": {},
   "outputs": [
    {
     "data": {
      "text/plain": [
       "array([2, 3, 4, 5])"
      ]
     },
     "execution_count": 12,
     "metadata": {},
     "output_type": "execute_result"
    }
   ],
   "source": [
    "coba[2:6]"
   ]
  },
  {
   "cell_type": "code",
   "execution_count": 14,
   "id": "c60d5f9b",
   "metadata": {},
   "outputs": [],
   "source": [
    "#jika di python biasa kita tidak dapat mengganti variable \n",
    "#dalam numpy dapat mengganti variable yang merujuk variable lain\n",
    "coba2 = coba[:6] #child dari coba"
   ]
  },
  {
   "cell_type": "code",
   "execution_count": 15,
   "id": "cac819a3",
   "metadata": {},
   "outputs": [
    {
     "data": {
      "text/plain": [
       "array([0, 1, 2, 3, 4, 5])"
      ]
     },
     "execution_count": 15,
     "metadata": {},
     "output_type": "execute_result"
    }
   ],
   "source": [
    "coba2 "
   ]
  },
  {
   "cell_type": "code",
   "execution_count": 20,
   "id": "69d35603",
   "metadata": {},
   "outputs": [],
   "source": [
    "coba2[:] = 100 #contoh mengganti nya"
   ]
  },
  {
   "cell_type": "code",
   "execution_count": 21,
   "id": "774f8a07",
   "metadata": {},
   "outputs": [
    {
     "data": {
      "text/plain": [
       "array([100, 100, 100, 100, 100, 100])"
      ]
     },
     "execution_count": 21,
     "metadata": {},
     "output_type": "execute_result"
    }
   ],
   "source": [
    "coba2"
   ]
  },
  {
   "cell_type": "code",
   "execution_count": 23,
   "id": "6161f08f",
   "metadata": {},
   "outputs": [
    {
     "data": {
      "text/plain": [
       "array([100, 100, 100, 100, 100, 100,   6,   7,   8,   9,  10])"
      ]
     },
     "execution_count": 23,
     "metadata": {},
     "output_type": "execute_result"
    }
   ],
   "source": [
    "#ketika child di ganti maka juga akan mengganti parent\n",
    "coba"
   ]
  },
  {
   "cell_type": "code",
   "execution_count": 25,
   "id": "6624e73b",
   "metadata": {},
   "outputs": [],
   "source": [
    "#function yang di gunakan agar variable berdiri sendiri \n",
    "coba3 = coba.copy()"
   ]
  },
  {
   "cell_type": "code",
   "execution_count": 26,
   "id": "94cd3696",
   "metadata": {},
   "outputs": [
    {
     "data": {
      "text/plain": [
       "array([100, 100, 100, 100, 100, 100,   6,   7,   8,   9,  10])"
      ]
     },
     "execution_count": 26,
     "metadata": {},
     "output_type": "execute_result"
    }
   ],
   "source": [
    "coba3"
   ]
  },
  {
   "cell_type": "code",
   "execution_count": 27,
   "id": "440b4437",
   "metadata": {},
   "outputs": [
    {
     "data": {
      "text/plain": [
       "array([100, 100, 100, 100, 100, 100,   6,   7,   8,   9,  10])"
      ]
     },
     "execution_count": 27,
     "metadata": {},
     "output_type": "execute_result"
    }
   ],
   "source": [
    "coba"
   ]
  },
  {
   "cell_type": "code",
   "execution_count": 28,
   "id": "b4cc57f9",
   "metadata": {},
   "outputs": [],
   "source": [
    "coba3[:] = 20"
   ]
  },
  {
   "cell_type": "code",
   "execution_count": 29,
   "id": "267a7889",
   "metadata": {},
   "outputs": [
    {
     "data": {
      "text/plain": [
       "array([20, 20, 20, 20, 20, 20, 20, 20, 20, 20, 20])"
      ]
     },
     "execution_count": 29,
     "metadata": {},
     "output_type": "execute_result"
    }
   ],
   "source": [
    "coba3"
   ]
  },
  {
   "cell_type": "code",
   "execution_count": 30,
   "id": "79ffd819",
   "metadata": {},
   "outputs": [
    {
     "data": {
      "text/plain": [
       "array([100, 100, 100, 100, 100, 100,   6,   7,   8,   9,  10])"
      ]
     },
     "execution_count": 30,
     "metadata": {},
     "output_type": "execute_result"
    }
   ],
   "source": [
    "coba"
   ]
  },
  {
   "cell_type": "code",
   "execution_count": 31,
   "id": "ac544441",
   "metadata": {},
   "outputs": [],
   "source": [
    "#contoh indexing dalam array\n",
    "bilangan = np.array([[1,2,3],[4,5,6],[7,8,9]])"
   ]
  },
  {
   "cell_type": "code",
   "execution_count": 33,
   "id": "cf816881",
   "metadata": {},
   "outputs": [
    {
     "data": {
      "text/plain": [
       "array([[1, 2, 3],\n",
       "       [4, 5, 6],\n",
       "       [7, 8, 9]])"
      ]
     },
     "execution_count": 33,
     "metadata": {},
     "output_type": "execute_result"
    }
   ],
   "source": [
    "bilangan"
   ]
  },
  {
   "cell_type": "code",
   "execution_count": 34,
   "id": "ad14a682",
   "metadata": {},
   "outputs": [
    {
     "data": {
      "text/plain": [
       "array([7, 8, 9])"
      ]
     },
     "execution_count": 34,
     "metadata": {},
     "output_type": "execute_result"
    }
   ],
   "source": [
    "#indexing dalam python\n",
    "bilangan[2]"
   ]
  },
  {
   "cell_type": "code",
   "execution_count": 36,
   "id": "cf670316",
   "metadata": {},
   "outputs": [
    {
     "data": {
      "text/plain": [
       "6"
      ]
     },
     "execution_count": 36,
     "metadata": {},
     "output_type": "execute_result"
    }
   ],
   "source": [
    "bilangan[1][2]"
   ]
  },
  {
   "cell_type": "code",
   "execution_count": 37,
   "id": "27876842",
   "metadata": {},
   "outputs": [
    {
     "data": {
      "text/plain": [
       "1"
      ]
     },
     "execution_count": 37,
     "metadata": {},
     "output_type": "execute_result"
    }
   ],
   "source": [
    "bilangan[0][0]"
   ]
  },
  {
   "cell_type": "code",
   "execution_count": 39,
   "id": "9777d86c",
   "metadata": {},
   "outputs": [
    {
     "data": {
      "text/plain": [
       "6"
      ]
     },
     "execution_count": 39,
     "metadata": {},
     "output_type": "execute_result"
    }
   ],
   "source": [
    "#indexing dalam numpy\n",
    "bilangan[1,2]"
   ]
  },
  {
   "cell_type": "code",
   "execution_count": 40,
   "id": "860e0034",
   "metadata": {},
   "outputs": [
    {
     "data": {
      "text/plain": [
       "1"
      ]
     },
     "execution_count": 40,
     "metadata": {},
     "output_type": "execute_result"
    }
   ],
   "source": [
    "bilangan[0,0]"
   ]
  },
  {
   "cell_type": "code",
   "execution_count": 45,
   "id": "41a47d6c",
   "metadata": {},
   "outputs": [
    {
     "data": {
      "text/plain": [
       "array([8, 9])"
      ]
     },
     "execution_count": 45,
     "metadata": {},
     "output_type": "execute_result"
    }
   ],
   "source": [
    "#slicing di matriks multidimensional\n",
    "bilangan[2,1:]"
   ]
  },
  {
   "cell_type": "code",
   "execution_count": 49,
   "id": "1fd9db47",
   "metadata": {},
   "outputs": [
    {
     "data": {
      "text/plain": [
       "array([[4, 5]])"
      ]
     },
     "execution_count": 49,
     "metadata": {},
     "output_type": "execute_result"
    }
   ],
   "source": [
    "bilangan[1:2,0:2]"
   ]
  },
  {
   "cell_type": "code",
   "execution_count": 50,
   "id": "d7dc42b5",
   "metadata": {},
   "outputs": [
    {
     "data": {
      "text/plain": [
       "array([[2]])"
      ]
     },
     "execution_count": 50,
     "metadata": {},
     "output_type": "execute_result"
    }
   ],
   "source": [
    "bilangan[0:1,1:2]"
   ]
  },
  {
   "cell_type": "code",
   "execution_count": null,
   "id": "01980613",
   "metadata": {},
   "outputs": [],
   "source": []
  }
 ],
 "metadata": {
  "kernelspec": {
   "display_name": "Python 3 (ipykernel)",
   "language": "python",
   "name": "python3"
  },
  "language_info": {
   "codemirror_mode": {
    "name": "ipython",
    "version": 3
   },
   "file_extension": ".py",
   "mimetype": "text/x-python",
   "name": "python",
   "nbconvert_exporter": "python",
   "pygments_lexer": "ipython3",
   "version": "3.9.13"
  }
 },
 "nbformat": 4,
 "nbformat_minor": 5
}
