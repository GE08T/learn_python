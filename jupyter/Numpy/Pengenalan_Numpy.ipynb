{
 "cells": [
  {
   "cell_type": "markdown",
   "id": "eafb1380",
   "metadata": {},
   "source": [
    "# Numpy"
   ]
  },
  {
   "cell_type": "markdown",
   "id": "4d04c25a",
   "metadata": {},
   "source": [
    "numpy ialah library aljabar linear untuk python"
   ]
  },
  {
   "cell_type": "code",
   "execution_count": 1,
   "id": "d478c28f",
   "metadata": {},
   "outputs": [],
   "source": [
    "#import library numpy \n",
    "import numpy as np"
   ]
  },
  {
   "cell_type": "code",
   "execution_count": 2,
   "id": "2285c89c",
   "metadata": {},
   "outputs": [],
   "source": [
    "angka = [1,2,3,4,5]"
   ]
  },
  {
   "cell_type": "code",
   "execution_count": 3,
   "id": "428f99ca",
   "metadata": {},
   "outputs": [],
   "source": [
    "#merubah list menjadi array menggunakan numpy\n",
    "angkanp = np.array(angka)\n",
    "#agar dapat melakukan operasi bilangan"
   ]
  },
  {
   "cell_type": "code",
   "execution_count": 4,
   "id": "180fef05",
   "metadata": {},
   "outputs": [
    {
     "data": {
      "text/plain": [
       "array([1, 2, 3, 4, 5])"
      ]
     },
     "execution_count": 4,
     "metadata": {},
     "output_type": "execute_result"
    }
   ],
   "source": [
    "angkanp"
   ]
  },
  {
   "cell_type": "code",
   "execution_count": 7,
   "id": "55add98a",
   "metadata": {},
   "outputs": [
    {
     "data": {
      "text/plain": [
       "[1, 2, 3, 4, 5, 1, 2, 3, 4, 5]"
      ]
     },
     "execution_count": 7,
     "metadata": {},
     "output_type": "execute_result"
    }
   ],
   "source": [
    "#menggunakan list biasa\n",
    "angka*2"
   ]
  },
  {
   "cell_type": "code",
   "execution_count": 6,
   "id": "443a43db",
   "metadata": {},
   "outputs": [
    {
     "data": {
      "text/plain": [
       "array([10, 20, 30, 40, 50])"
      ]
     },
     "execution_count": 6,
     "metadata": {},
     "output_type": "execute_result"
    }
   ],
   "source": [
    "#menggunakan np\n",
    "angkanp*10"
   ]
  },
  {
   "cell_type": "code",
   "execution_count": 8,
   "id": "5ea957f6",
   "metadata": {},
   "outputs": [],
   "source": [
    "angka2 = [[1,2,3],[4,5,6],[7,8,9]] "
   ]
  },
  {
   "cell_type": "code",
   "execution_count": 12,
   "id": "5b7aba04",
   "metadata": {},
   "outputs": [
    {
     "data": {
      "text/plain": [
       "[[1, 2, 3], [4, 5, 6], [7, 8, 9]]"
      ]
     },
     "execution_count": 12,
     "metadata": {},
     "output_type": "execute_result"
    }
   ],
   "source": [
    "angka2"
   ]
  },
  {
   "cell_type": "code",
   "execution_count": 9,
   "id": "fc338007",
   "metadata": {},
   "outputs": [],
   "source": [
    "angka2np = np.array(angka2)"
   ]
  },
  {
   "cell_type": "code",
   "execution_count": 10,
   "id": "bcc19fb8",
   "metadata": {},
   "outputs": [
    {
     "data": {
      "text/plain": [
       "array([[1, 2, 3],\n",
       "       [4, 5, 6],\n",
       "       [7, 8, 9]])"
      ]
     },
     "execution_count": 10,
     "metadata": {},
     "output_type": "execute_result"
    }
   ],
   "source": [
    "#contoh matriks 3 x 3 baris dikali kolom\n",
    "angka2np"
   ]
  },
  {
   "cell_type": "code",
   "execution_count": 16,
   "id": "9109a25a",
   "metadata": {},
   "outputs": [
    {
     "data": {
      "text/plain": [
       "array([ 0,  1,  2,  3,  4,  5,  6,  7,  8,  9, 10])"
      ]
     },
     "execution_count": 16,
     "metadata": {},
     "output_type": "execute_result"
    }
   ],
   "source": [
    "#fungsi numpy untuk membuat array\n",
    "np.arange(0,11) #mirip slicing python biasa"
   ]
  },
  {
   "cell_type": "code",
   "execution_count": 20,
   "id": "5c4ca559",
   "metadata": {},
   "outputs": [
    {
     "data": {
      "text/plain": [
       "array([ 0,  6, 12, 18, 24, 30])"
      ]
     },
     "execution_count": 20,
     "metadata": {},
     "output_type": "execute_result"
    }
   ],
   "source": [
    "np.arange(0,31,) #dengan jarak"
   ]
  },
  {
   "cell_type": "code",
   "execution_count": 22,
   "id": "3ec0a74d",
   "metadata": {},
   "outputs": [
    {
     "data": {
      "text/plain": [
       "array([0., 0., 0., 0., 0., 0., 0., 0., 0., 0.])"
      ]
     },
     "execution_count": 22,
     "metadata": {},
     "output_type": "execute_result"
    }
   ],
   "source": [
    "#fungsi numpy untuk generate 0. / membangkitkan angka 0\n",
    "np.zeros(10)"
   ]
  },
  {
   "cell_type": "code",
   "execution_count": 23,
   "id": "03670a1b",
   "metadata": {},
   "outputs": [
    {
     "data": {
      "text/plain": [
       "array([[0., 0., 0., 0.],\n",
       "       [0., 0., 0., 0.],\n",
       "       [0., 0., 0., 0.]])"
      ]
     },
     "execution_count": 23,
     "metadata": {},
     "output_type": "execute_result"
    }
   ],
   "source": [
    "#untuk multidimensional array\n",
    "np.zeros((3,4))"
   ]
  },
  {
   "cell_type": "code",
   "execution_count": 25,
   "id": "6e8b9c1f",
   "metadata": {},
   "outputs": [
    {
     "data": {
      "text/plain": [
       "array([1., 1., 1., 1., 1.])"
      ]
     },
     "execution_count": 25,
     "metadata": {},
     "output_type": "execute_result"
    }
   ],
   "source": [
    "#fungsi untuk membangkitkan angka 1\n",
    "np.ones(5)"
   ]
  },
  {
   "cell_type": "code",
   "execution_count": 27,
   "id": "a1b9ffd1",
   "metadata": {},
   "outputs": [
    {
     "data": {
      "text/plain": [
       "array([1.        , 1.44444444, 1.88888889, 2.33333333, 2.77777778,\n",
       "       3.22222222, 3.66666667, 4.11111111, 4.55555556, 5.        ])"
      ]
     },
     "execution_count": 27,
     "metadata": {},
     "output_type": "execute_result"
    }
   ],
   "source": [
    "#fungsi yang hampir sama dengan arrange\n",
    "#tapi mengikutkan indeks terakhir\n",
    "#dan juga membagi jarak sama rata sesuai yang di mau\n",
    "#pertama = dimulai, kedua = berakhir, tiga = dibagi berapa \n",
    "np.linspace(1,5,10) "
   ]
  },
  {
   "cell_type": "code",
   "execution_count": 29,
   "id": "8cb4425b",
   "metadata": {},
   "outputs": [
    {
     "data": {
      "text/plain": [
       "array([[1., 0., 0., 0., 0.],\n",
       "       [0., 1., 0., 0., 0.],\n",
       "       [0., 0., 1., 0., 0.],\n",
       "       [0., 0., 0., 1., 0.],\n",
       "       [0., 0., 0., 0., 1.]])"
      ]
     },
     "execution_count": 29,
     "metadata": {},
     "output_type": "execute_result"
    }
   ],
   "source": [
    "#fungsi untuk identity matriks\n",
    "#membuat matriks sama baris dan kolom\n",
    "#dan membuat diagonal angka 1 didalamnya\n",
    "np.eye(5)"
   ]
  },
  {
   "cell_type": "code",
   "execution_count": null,
   "id": "61170a0d",
   "metadata": {},
   "outputs": [],
   "source": []
  }
 ],
 "metadata": {
  "kernelspec": {
   "display_name": "Python 3 (ipykernel)",
   "language": "python",
   "name": "python3"
  },
  "language_info": {
   "codemirror_mode": {
    "name": "ipython",
    "version": 3
   },
   "file_extension": ".py",
   "mimetype": "text/x-python",
   "name": "python",
   "nbconvert_exporter": "python",
   "pygments_lexer": "ipython3",
   "version": "3.9.13"
  }
 },
 "nbformat": 4,
 "nbformat_minor": 5
}
