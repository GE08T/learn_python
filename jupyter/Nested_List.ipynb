{
 "cells": [
  {
   "cell_type": "markdown",
   "id": "46727abb",
   "metadata": {},
   "source": [
    "### Penulisan nested list di Python"
   ]
  },
  {
   "cell_type": "code",
   "execution_count": 26,
   "id": "e163ac82",
   "metadata": {},
   "outputs": [],
   "source": [
    "listku = [1,2,3,4,[5,6,7,8]]"
   ]
  },
  {
   "cell_type": "code",
   "execution_count": 27,
   "id": "4cd61008",
   "metadata": {},
   "outputs": [
    {
     "data": {
      "text/plain": [
       "[1, 2, 3, 4, [5, 6, 7, 8]]"
      ]
     },
     "execution_count": 27,
     "metadata": {},
     "output_type": "execute_result"
    }
   ],
   "source": [
    "listku"
   ]
  },
  {
   "cell_type": "code",
   "execution_count": 28,
   "id": "a5aa8832",
   "metadata": {},
   "outputs": [
    {
     "data": {
      "text/plain": [
       "3"
      ]
     },
     "execution_count": 28,
     "metadata": {},
     "output_type": "execute_result"
    }
   ],
   "source": [
    "listku[2]"
   ]
  },
  {
   "cell_type": "code",
   "execution_count": 29,
   "id": "0f36287f",
   "metadata": {},
   "outputs": [
    {
     "data": {
      "text/plain": [
       "[3, 4, [5, 6, 7, 8]]"
      ]
     },
     "execution_count": 29,
     "metadata": {},
     "output_type": "execute_result"
    }
   ],
   "source": [
    "listku[2:]"
   ]
  },
  {
   "cell_type": "code",
   "execution_count": 30,
   "id": "eb942c6f",
   "metadata": {},
   "outputs": [
    {
     "data": {
      "text/plain": [
       "[5, 6, 7, 8]"
      ]
     },
     "execution_count": 30,
     "metadata": {},
     "output_type": "execute_result"
    }
   ],
   "source": [
    "listku[4]"
   ]
  },
  {
   "cell_type": "code",
   "execution_count": 31,
   "id": "fc06ed41",
   "metadata": {},
   "outputs": [
    {
     "data": {
      "text/plain": [
       "[7, 8]"
      ]
     },
     "execution_count": 31,
     "metadata": {},
     "output_type": "execute_result"
    }
   ],
   "source": [
    "listku[4][2:] #ditulis index keberapa list tersebut disusul isi didalam index"
   ]
  },
  {
   "cell_type": "markdown",
   "id": "bfa624ca",
   "metadata": {},
   "source": [
    "### challenge mengeluarkan target"
   ]
  },
  {
   "cell_type": "code",
   "execution_count": 32,
   "id": "322330b9",
   "metadata": {},
   "outputs": [],
   "source": [
    "list2 = [1,2,3,4,5,[6,7,8,[9,10,11,'target',12]]]"
   ]
  },
  {
   "cell_type": "code",
   "execution_count": 33,
   "id": "c9f36922",
   "metadata": {},
   "outputs": [
    {
     "data": {
      "text/plain": [
       "'target'"
      ]
     },
     "execution_count": 33,
     "metadata": {},
     "output_type": "execute_result"
    }
   ],
   "source": [
    "list2[5][3][3] #di cari index keberapa lalu ditambah index ke berapa listnya lalu ditambah index ke berapa datanya"
   ]
  }
 ],
 "metadata": {
  "kernelspec": {
   "display_name": "Python 3 (ipykernel)",
   "language": "python",
   "name": "python3"
  },
  "language_info": {
   "codemirror_mode": {
    "name": "ipython",
    "version": 3
   },
   "file_extension": ".py",
   "mimetype": "text/x-python",
   "name": "python",
   "nbconvert_exporter": "python",
   "pygments_lexer": "ipython3",
   "version": "3.9.13"
  }
 },
 "nbformat": 4,
 "nbformat_minor": 5
}
