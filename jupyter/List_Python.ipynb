{
 "cells": [
  {
   "cell_type": "markdown",
   "id": "5d938e72",
   "metadata": {},
   "source": [
    "### List bisa di isi variable apa saja "
   ]
  },
  {
   "cell_type": "code",
   "execution_count": 21,
   "id": "08916aa1",
   "metadata": {},
   "outputs": [],
   "source": [
    "keranjang = [12, 1.1, 'naga']"
   ]
  },
  {
   "cell_type": "markdown",
   "id": "a97960cb",
   "metadata": {},
   "source": [
    "### penggunaan len untuk cek jumlah list"
   ]
  },
  {
   "cell_type": "code",
   "execution_count": 22,
   "id": "5124f968",
   "metadata": {},
   "outputs": [
    {
     "data": {
      "text/plain": [
       "3"
      ]
     },
     "execution_count": 22,
     "metadata": {},
     "output_type": "execute_result"
    }
   ],
   "source": [
    "len(keranjang)"
   ]
  },
  {
   "cell_type": "code",
   "execution_count": 23,
   "id": "effdcbd5",
   "metadata": {},
   "outputs": [
    {
     "name": "stdout",
     "output_type": "stream",
     "text": [
      "12\n",
      "1.1\n",
      "naga\n"
     ]
    }
   ],
   "source": [
    "for i in range(len(keranjang)):\n",
    "    print(keranjang[i])"
   ]
  },
  {
   "cell_type": "code",
   "execution_count": 24,
   "id": "a999e860",
   "metadata": {},
   "outputs": [
    {
     "name": "stdout",
     "output_type": "stream",
     "text": [
      "12\n",
      "1.1\n",
      "naga\n"
     ]
    }
   ],
   "source": [
    "for i in range(0,3):\n",
    "    print(keranjang[i])"
   ]
  },
  {
   "cell_type": "code",
   "execution_count": 25,
   "id": "8799f12e",
   "metadata": {},
   "outputs": [],
   "source": [
    "keranjang[1] = 'mangga'"
   ]
  },
  {
   "cell_type": "code",
   "execution_count": 26,
   "id": "bf8cfe12",
   "metadata": {},
   "outputs": [
    {
     "data": {
      "text/plain": [
       "[12, 'mangga', 'naga']"
      ]
     },
     "execution_count": 26,
     "metadata": {},
     "output_type": "execute_result"
    }
   ],
   "source": [
    "keranjang"
   ]
  },
  {
   "cell_type": "code",
   "execution_count": 27,
   "id": "8a2c2743",
   "metadata": {},
   "outputs": [],
   "source": [
    "keranjang.append('tomat') #hanya untuk insert 1 value"
   ]
  },
  {
   "cell_type": "code",
   "execution_count": 28,
   "id": "fba55413",
   "metadata": {},
   "outputs": [
    {
     "data": {
      "text/plain": [
       "[12, 'mangga', 'naga', 'tomat']"
      ]
     },
     "execution_count": 28,
     "metadata": {},
     "output_type": "execute_result"
    }
   ],
   "source": [
    "keranjang"
   ]
  },
  {
   "cell_type": "code",
   "execution_count": 29,
   "id": "5175d313",
   "metadata": {},
   "outputs": [],
   "source": [
    "#jika ingin banyak pakai\n",
    "buah = ['jeruk', 'melon', 'semangka']"
   ]
  },
  {
   "cell_type": "code",
   "execution_count": 30,
   "id": "0abe6c35",
   "metadata": {},
   "outputs": [],
   "source": [
    "keranjang = keranjang + buah"
   ]
  },
  {
   "cell_type": "code",
   "execution_count": 31,
   "id": "ec80047c",
   "metadata": {},
   "outputs": [
    {
     "data": {
      "text/plain": [
       "[12, 'mangga', 'naga', 'tomat', 'jeruk', 'melon', 'semangka']"
      ]
     },
     "execution_count": 31,
     "metadata": {},
     "output_type": "execute_result"
    }
   ],
   "source": [
    "keranjang"
   ]
  },
  {
   "cell_type": "code",
   "execution_count": 32,
   "id": "bc68b190",
   "metadata": {},
   "outputs": [
    {
     "data": {
      "text/plain": [
       "7"
      ]
     },
     "execution_count": 32,
     "metadata": {},
     "output_type": "execute_result"
    }
   ],
   "source": [
    "len(keranjang)"
   ]
  },
  {
   "cell_type": "code",
   "execution_count": 33,
   "id": "aac71304",
   "metadata": {},
   "outputs": [],
   "source": [
    "#jika di isi kan buah kedalam append keranjang\n",
    "#maka menjadi list didalam list\n",
    "keranjang.append(buah)"
   ]
  },
  {
   "cell_type": "code",
   "execution_count": 34,
   "id": "5c566542",
   "metadata": {},
   "outputs": [
    {
     "data": {
      "text/plain": [
       "[12,\n",
       " 'mangga',\n",
       " 'naga',\n",
       " 'tomat',\n",
       " 'jeruk',\n",
       " 'melon',\n",
       " 'semangka',\n",
       " ['jeruk', 'melon', 'semangka']]"
      ]
     },
     "execution_count": 34,
     "metadata": {},
     "output_type": "execute_result"
    }
   ],
   "source": [
    "keranjang"
   ]
  },
  {
   "cell_type": "code",
   "execution_count": 35,
   "id": "5f50096b",
   "metadata": {},
   "outputs": [],
   "source": [
    "#untuk memotong / hapus item terakhir \n",
    "baru = [1,2,3,4,5,6]"
   ]
  },
  {
   "cell_type": "code",
   "execution_count": 36,
   "id": "00804035",
   "metadata": {},
   "outputs": [
    {
     "data": {
      "text/plain": [
       "6"
      ]
     },
     "execution_count": 36,
     "metadata": {},
     "output_type": "execute_result"
    }
   ],
   "source": [
    "baru.pop()"
   ]
  },
  {
   "cell_type": "code",
   "execution_count": 37,
   "id": "4183c988",
   "metadata": {},
   "outputs": [
    {
     "data": {
      "text/plain": [
       "[1, 2, 3, 4, 5]"
      ]
     },
     "execution_count": 37,
     "metadata": {},
     "output_type": "execute_result"
    }
   ],
   "source": [
    "baru"
   ]
  },
  {
   "cell_type": "code",
   "execution_count": 38,
   "id": "7a69d9a5",
   "metadata": {},
   "outputs": [
    {
     "data": {
      "text/plain": [
       "2"
      ]
     },
     "execution_count": 38,
     "metadata": {},
     "output_type": "execute_result"
    }
   ],
   "source": [
    "#jika ingin menghapus tertentu masukan index kedalam pop\n",
    "baru.pop(1)"
   ]
  },
  {
   "cell_type": "code",
   "execution_count": 39,
   "id": "74b605bd",
   "metadata": {},
   "outputs": [
    {
     "data": {
      "text/plain": [
       "[1, 3, 4, 5]"
      ]
     },
     "execution_count": 39,
     "metadata": {},
     "output_type": "execute_result"
    }
   ],
   "source": [
    "baru"
   ]
  },
  {
   "cell_type": "code",
   "execution_count": 40,
   "id": "434062a0",
   "metadata": {},
   "outputs": [],
   "source": [
    "baru_new = baru.pop(3) #method bisa disimpan kedalam variable"
   ]
  },
  {
   "cell_type": "code",
   "execution_count": 41,
   "id": "b291112d",
   "metadata": {},
   "outputs": [
    {
     "data": {
      "text/plain": [
       "5"
      ]
     },
     "execution_count": 41,
     "metadata": {},
     "output_type": "execute_result"
    }
   ],
   "source": [
    "baru_new #method dipanggil maka variable baru berubah"
   ]
  },
  {
   "cell_type": "code",
   "execution_count": 42,
   "id": "3328f981",
   "metadata": {},
   "outputs": [
    {
     "data": {
      "text/plain": [
       "[1, 3, 4]"
      ]
     },
     "execution_count": 42,
     "metadata": {},
     "output_type": "execute_result"
    }
   ],
   "source": [
    "baru"
   ]
  },
  {
   "cell_type": "code",
   "execution_count": 43,
   "id": "f29e674e",
   "metadata": {},
   "outputs": [],
   "source": [
    "#untuk mengurutkan angka\n",
    "urut =[9,8,7,2,4,3,1,5,6]"
   ]
  },
  {
   "cell_type": "code",
   "execution_count": 44,
   "id": "76878b13",
   "metadata": {},
   "outputs": [
    {
     "data": {
      "text/plain": [
       "[9, 8, 7, 2, 4, 3, 1, 5, 6]"
      ]
     },
     "execution_count": 44,
     "metadata": {},
     "output_type": "execute_result"
    }
   ],
   "source": [
    "urut"
   ]
  },
  {
   "cell_type": "code",
   "execution_count": 45,
   "id": "356fc997",
   "metadata": {},
   "outputs": [],
   "source": [
    "urut.sort() #sort tidak bisa digunakan kedalam variable"
   ]
  },
  {
   "cell_type": "code",
   "execution_count": 46,
   "id": "bd7637ac",
   "metadata": {},
   "outputs": [
    {
     "data": {
      "text/plain": [
       "[1, 2, 3, 4, 5, 6, 7, 8, 9]"
      ]
     },
     "execution_count": 46,
     "metadata": {},
     "output_type": "execute_result"
    }
   ],
   "source": [
    "urut #karena sort langsung mengubah isi list"
   ]
  },
  {
   "cell_type": "code",
   "execution_count": 47,
   "id": "0474e180",
   "metadata": {},
   "outputs": [],
   "source": [
    "var2 = [1,4,6,2,5,3]"
   ]
  },
  {
   "cell_type": "code",
   "execution_count": 48,
   "id": "8b076da9",
   "metadata": {},
   "outputs": [],
   "source": [
    "var2.sort()"
   ]
  },
  {
   "cell_type": "code",
   "execution_count": 49,
   "id": "c84bb7df",
   "metadata": {},
   "outputs": [],
   "source": [
    "var3 = var2 #untuk menaruh hasil sort ke variable lain"
   ]
  },
  {
   "cell_type": "code",
   "execution_count": 50,
   "id": "1bd9be53",
   "metadata": {},
   "outputs": [
    {
     "data": {
      "text/plain": [
       "[1, 2, 3, 4, 5, 6]"
      ]
     },
     "execution_count": 50,
     "metadata": {},
     "output_type": "execute_result"
    }
   ],
   "source": [
    "var3 "
   ]
  },
  {
   "cell_type": "code",
   "execution_count": 51,
   "id": "578a5fe3",
   "metadata": {},
   "outputs": [],
   "source": [
    "#sort bisa digunakan untuk huruf juga\n",
    "huruf = ['a', 'c', 'e', 'b', 'd']"
   ]
  },
  {
   "cell_type": "code",
   "execution_count": 52,
   "id": "d1c0690a",
   "metadata": {},
   "outputs": [],
   "source": [
    "huruf.sort()"
   ]
  },
  {
   "cell_type": "code",
   "execution_count": 53,
   "id": "8600a9f9",
   "metadata": {},
   "outputs": [
    {
     "data": {
      "text/plain": [
       "['a', 'b', 'c', 'd', 'e']"
      ]
     },
     "execution_count": 53,
     "metadata": {},
     "output_type": "execute_result"
    }
   ],
   "source": [
    "huruf"
   ]
  },
  {
   "cell_type": "code",
   "execution_count": 55,
   "id": "9aec440b",
   "metadata": {},
   "outputs": [],
   "source": [
    "#kebalikan dari sort adalah reverse\n",
    "huruf.reverse()"
   ]
  },
  {
   "cell_type": "code",
   "execution_count": 56,
   "id": "68d8a967",
   "metadata": {},
   "outputs": [
    {
     "data": {
      "text/plain": [
       "['e', 'd', 'c', 'b', 'a']"
      ]
     },
     "execution_count": 56,
     "metadata": {},
     "output_type": "execute_result"
    }
   ],
   "source": [
    "huruf"
   ]
  },
  {
   "cell_type": "code",
   "execution_count": 57,
   "id": "96331459",
   "metadata": {},
   "outputs": [],
   "source": [
    "string = ['aku', 'kamu', 'dia']"
   ]
  },
  {
   "cell_type": "code",
   "execution_count": 58,
   "id": "233828d6",
   "metadata": {},
   "outputs": [],
   "source": [
    "string.sort()"
   ]
  },
  {
   "cell_type": "code",
   "execution_count": 59,
   "id": "03505222",
   "metadata": {},
   "outputs": [
    {
     "data": {
      "text/plain": [
       "['aku', 'dia', 'kamu']"
      ]
     },
     "execution_count": 59,
     "metadata": {},
     "output_type": "execute_result"
    }
   ],
   "source": [
    "string #hanya akan mengurutkan huruf didepannya"
   ]
  },
  {
   "cell_type": "code",
   "execution_count": 60,
   "id": "bc9c105e",
   "metadata": {},
   "outputs": [],
   "source": [
    "string.reverse()"
   ]
  },
  {
   "cell_type": "code",
   "execution_count": 61,
   "id": "8f834835",
   "metadata": {},
   "outputs": [
    {
     "data": {
      "text/plain": [
       "['kamu', 'dia', 'aku']"
      ]
     },
     "execution_count": 61,
     "metadata": {},
     "output_type": "execute_result"
    }
   ],
   "source": [
    "string"
   ]
  },
  {
   "cell_type": "code",
   "execution_count": 63,
   "id": "d3ce7a7c",
   "metadata": {},
   "outputs": [],
   "source": [
    "ini_float = [2.1,5.3,7.2,1.3,1.6]"
   ]
  },
  {
   "cell_type": "code",
   "execution_count": 64,
   "id": "9f93b6cf",
   "metadata": {},
   "outputs": [],
   "source": [
    "ini_float.sort()"
   ]
  },
  {
   "cell_type": "code",
   "execution_count": 65,
   "id": "68f75280",
   "metadata": {},
   "outputs": [
    {
     "data": {
      "text/plain": [
       "[1.3, 1.6, 2.1, 5.3, 7.2]"
      ]
     },
     "execution_count": 65,
     "metadata": {},
     "output_type": "execute_result"
    }
   ],
   "source": [
    "ini_float #sama seperti number "
   ]
  },
  {
   "cell_type": "code",
   "execution_count": null,
   "id": "2d90574d",
   "metadata": {},
   "outputs": [],
   "source": []
  }
 ],
 "metadata": {
  "kernelspec": {
   "display_name": "Python 3 (ipykernel)",
   "language": "python",
   "name": "python3"
  },
  "language_info": {
   "codemirror_mode": {
    "name": "ipython",
    "version": 3
   },
   "file_extension": ".py",
   "mimetype": "text/x-python",
   "name": "python",
   "nbconvert_exporter": "python",
   "pygments_lexer": "ipython3",
   "version": "3.9.13"
  }
 },
 "nbformat": 4,
 "nbformat_minor": 5
}
