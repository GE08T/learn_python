{
 "cells": [
  {
   "cell_type": "markdown",
   "id": "d567db0f",
   "metadata": {},
   "source": [
    "## Indexing dan Slicing "
   ]
  },
  {
   "cell_type": "code",
   "execution_count": 6,
   "id": "3ac495e0",
   "metadata": {},
   "outputs": [],
   "source": [
    "a = 3"
   ]
  },
  {
   "cell_type": "code",
   "execution_count": 7,
   "id": "50e6162a",
   "metadata": {},
   "outputs": [],
   "source": [
    "item_saya = 15"
   ]
  },
  {
   "cell_type": "code",
   "execution_count": 8,
   "id": "c05ef7f8",
   "metadata": {},
   "outputs": [
    {
     "ename": "SyntaxError",
     "evalue": "invalid syntax (3217333539.py, line 1)",
     "output_type": "error",
     "traceback": [
      "\u001b[1;36m  File \u001b[1;32m\"C:\\Users\\GE08T\\AppData\\Local\\Temp\\ipykernel_12192\\3217333539.py\"\u001b[1;36m, line \u001b[1;32m1\u001b[0m\n\u001b[1;33m    item saya = 15\u001b[0m\n\u001b[1;37m         ^\u001b[0m\n\u001b[1;31mSyntaxError\u001b[0m\u001b[1;31m:\u001b[0m invalid syntax\n"
     ]
    }
   ],
   "source": [
    "item saya = 15"
   ]
  },
  {
   "cell_type": "markdown",
   "id": "41abd94c",
   "metadata": {},
   "source": [
    "#### Contoh List"
   ]
  },
  {
   "cell_type": "code",
   "execution_count": 9,
   "id": "c2de1954",
   "metadata": {},
   "outputs": [],
   "source": [
    "item_saya = ['ikan', 'ayam', 'bebek']"
   ]
  },
  {
   "cell_type": "code",
   "execution_count": 10,
   "id": "91983f0f",
   "metadata": {},
   "outputs": [
    {
     "data": {
      "text/plain": [
       "['ikan', 'ayam', 'bebek']"
      ]
     },
     "execution_count": 10,
     "metadata": {},
     "output_type": "execute_result"
    }
   ],
   "source": [
    "item_saya"
   ]
  },
  {
   "cell_type": "markdown",
   "id": "6bdfa2ed",
   "metadata": {},
   "source": [
    "#### Contoh Indexing"
   ]
  },
  {
   "cell_type": "code",
   "execution_count": 11,
   "id": "77c944c9",
   "metadata": {},
   "outputs": [
    {
     "data": {
      "text/plain": [
       "'ayam'"
      ]
     },
     "execution_count": 11,
     "metadata": {},
     "output_type": "execute_result"
    }
   ],
   "source": [
    "item_saya[1]"
   ]
  },
  {
   "cell_type": "code",
   "execution_count": 17,
   "id": "ed8d01ef",
   "metadata": {},
   "outputs": [],
   "source": [
    "item_saya = [\"ikan'ku\", \"ayam\", \"bebek\"]"
   ]
  },
  {
   "cell_type": "code",
   "execution_count": 18,
   "id": "4aeac284",
   "metadata": {},
   "outputs": [
    {
     "data": {
      "text/plain": [
       "[\"ikan'ku\", 'ayam', 'bebek']"
      ]
     },
     "execution_count": 18,
     "metadata": {},
     "output_type": "execute_result"
    }
   ],
   "source": [
    "item_saya"
   ]
  },
  {
   "cell_type": "code",
   "execution_count": 19,
   "id": "1cea7639",
   "metadata": {},
   "outputs": [
    {
     "data": {
      "text/plain": [
       "'Belajar Python itu Mudah'"
      ]
     },
     "execution_count": 19,
     "metadata": {},
     "output_type": "execute_result"
    }
   ],
   "source": [
    "\"Belajar Python itu Mudah\""
   ]
  },
  {
   "cell_type": "code",
   "execution_count": 20,
   "id": "579213a9",
   "metadata": {},
   "outputs": [
    {
     "data": {
      "text/plain": [
       "'j'"
      ]
     },
     "execution_count": 20,
     "metadata": {},
     "output_type": "execute_result"
    }
   ],
   "source": [
    "\"Belajar Python itu Mudah\"[4]"
   ]
  },
  {
   "cell_type": "markdown",
   "id": "52f9241d",
   "metadata": {},
   "source": [
    "#### Contoh Slicing"
   ]
  },
  {
   "cell_type": "code",
   "execution_count": 23,
   "id": "84d457bf",
   "metadata": {
    "scrolled": true
   },
   "outputs": [
    {
     "data": {
      "text/plain": [
       "'Belaja'"
      ]
     },
     "execution_count": 23,
     "metadata": {},
     "output_type": "execute_result"
    }
   ],
   "source": [
    "\"Belajar Python itu Mudah\"[0:7]"
   ]
  },
  {
   "cell_type": "code",
   "execution_count": 26,
   "id": "d84725d9",
   "metadata": {},
   "outputs": [
    {
     "data": {
      "text/plain": [
       "'Belajar Python itu Mudah'"
      ]
     },
     "execution_count": 26,
     "metadata": {},
     "output_type": "execute_result"
    }
   ],
   "source": [
    "\"Belajar Python itu Mudah\"[:]"
   ]
  },
  {
   "cell_type": "markdown",
   "id": "eedfd83e",
   "metadata": {},
   "source": [
    "#### Rumus Slicing [awal:akhir:jarak]"
   ]
  },
  {
   "cell_type": "code",
   "execution_count": 28,
   "id": "990acc4b",
   "metadata": {},
   "outputs": [
    {
     "data": {
      "text/plain": [
       "'eaa yhniuMd'"
      ]
     },
     "execution_count": 28,
     "metadata": {},
     "output_type": "execute_result"
    }
   ],
   "source": [
    "\"Belajar Python itu Mudah\"[1:-1:2] \n",
    "#-1 adalah indek terakhir\n",
    "#mengambil indek 1 sampai terakhir dengan jarak 2 index"
   ]
  },
  {
   "cell_type": "code",
   "execution_count": 29,
   "id": "a0c567e8",
   "metadata": {},
   "outputs": [
    {
     "data": {
      "text/plain": [
       "'haduM uti nohtyP rajaleB'"
      ]
     },
     "execution_count": 29,
     "metadata": {},
     "output_type": "execute_result"
    }
   ],
   "source": [
    "#membuat indek secara mundur\n",
    "\"Belajar Python itu Mudah\"[::-1]"
   ]
  },
  {
   "cell_type": "code",
   "execution_count": 30,
   "id": "b22ed1e2",
   "metadata": {},
   "outputs": [],
   "source": [
    "#slicing indek dimulai 3 akhir semua jarak 3\n",
    "item = [1,2,3,4,5,6,7,8,9,10]"
   ]
  },
  {
   "cell_type": "code",
   "execution_count": 31,
   "id": "0307e288",
   "metadata": {},
   "outputs": [
    {
     "data": {
      "text/plain": [
       "[4, 7, 10]"
      ]
     },
     "execution_count": 31,
     "metadata": {},
     "output_type": "execute_result"
    }
   ],
   "source": [
    "item[3::3]"
   ]
  },
  {
   "cell_type": "code",
   "execution_count": null,
   "id": "73d47b8f",
   "metadata": {},
   "outputs": [],
   "source": []
  }
 ],
 "metadata": {
  "kernelspec": {
   "display_name": "Python 3 (ipykernel)",
   "language": "python",
   "name": "python3"
  },
  "language_info": {
   "codemirror_mode": {
    "name": "ipython",
    "version": 3
   },
   "file_extension": ".py",
   "mimetype": "text/x-python",
   "name": "python",
   "nbconvert_exporter": "python",
   "pygments_lexer": "ipython3",
   "version": "3.9.13"
  }
 },
 "nbformat": 4,
 "nbformat_minor": 5
}
