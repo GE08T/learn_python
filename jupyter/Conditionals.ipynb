{
 "cells": [
  {
   "cell_type": "markdown",
   "id": "0f03d501",
   "metadata": {},
   "source": [
    "### If Elif Else pada Python"
   ]
  },
  {
   "cell_type": "code",
   "execution_count": 36,
   "id": "f7afd68a",
   "metadata": {},
   "outputs": [],
   "source": [
    "nilai = 80"
   ]
  },
  {
   "cell_type": "code",
   "execution_count": 37,
   "id": "f9fa4a6c",
   "metadata": {},
   "outputs": [
    {
     "name": "stdout",
     "output_type": "stream",
     "text": [
      "Nilaimu A\n"
     ]
    }
   ],
   "source": [
    "if (50 <= nilai <=80):\n",
    "    print('Nilaimu B')\n",
    "elif (80 > nilai <= 90):\n",
    "    print('Nilaimu A')\n",
    "elif (nilai < 100 or nilai == 100):\n",
    "    print('Nilaimu ndak masuk akal')\n",
    "else:\n",
    "    print('maaf anda remidi')"
   ]
  },
  {
   "cell_type": "code",
   "execution_count": 31,
   "id": "25e813f7",
   "metadata": {},
   "outputs": [
    {
     "name": "stdout",
     "output_type": "stream",
     "text": [
      "ini perintah ke dua\n"
     ]
    }
   ],
   "source": [
    "if False:\n",
    "    print('berhasil terpenuhi')\n",
    "else:\n",
    "    print('ini perintah ke dua')"
   ]
  },
  {
   "cell_type": "code",
   "execution_count": null,
   "id": "a39dcb2e",
   "metadata": {},
   "outputs": [],
   "source": []
  }
 ],
 "metadata": {
  "kernelspec": {
   "display_name": "Python 3 (ipykernel)",
   "language": "python",
   "name": "python3"
  },
  "language_info": {
   "codemirror_mode": {
    "name": "ipython",
    "version": 3
   },
   "file_extension": ".py",
   "mimetype": "text/x-python",
   "name": "python",
   "nbconvert_exporter": "python",
   "pygments_lexer": "ipython3",
   "version": "3.9.13"
  }
 },
 "nbformat": 4,
 "nbformat_minor": 5
}
