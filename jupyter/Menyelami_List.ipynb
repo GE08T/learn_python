{
 "cells": [
  {
   "cell_type": "markdown",
   "id": "369a23e4",
   "metadata": {},
   "source": [
    "### Menyelami List"
   ]
  },
  {
   "cell_type": "code",
   "execution_count": 6,
   "id": "77f165d4",
   "metadata": {},
   "outputs": [],
   "source": [
    "#deklarasi list yang memisahkan kata perhurulist(('kita akan belajar python'))\n",
    "halo = list('saya suka kamu')"
   ]
  },
  {
   "cell_type": "code",
   "execution_count": 5,
   "id": "a027637d",
   "metadata": {},
   "outputs": [
    {
     "data": {
      "text/plain": [
       "['s', 'a', 'y', 'a', ' ', 's', 'u', 'k', 'a', ' ', 'k', 'a', 'm', 'u']"
      ]
     },
     "execution_count": 5,
     "metadata": {},
     "output_type": "execute_result"
    }
   ],
   "source": [
    "halo"
   ]
  },
  {
   "cell_type": "markdown",
   "id": "da9fc9a8",
   "metadata": {},
   "source": [
    "### Contoh nested iterasi"
   ]
  },
  {
   "cell_type": "code",
   "execution_count": 16,
   "id": "f775b59e",
   "metadata": {},
   "outputs": [],
   "source": [
    "ganjil = [1,3,5,7,9]"
   ]
  },
  {
   "cell_type": "code",
   "execution_count": 17,
   "id": "98ef9cf9",
   "metadata": {},
   "outputs": [],
   "source": [
    "genap = [2,4,6,8,10]"
   ]
  },
  {
   "cell_type": "code",
   "execution_count": 18,
   "id": "f21ad710",
   "metadata": {},
   "outputs": [],
   "source": [
    "angka = ganjil + genap"
   ]
  },
  {
   "cell_type": "code",
   "execution_count": 19,
   "id": "c16ac444",
   "metadata": {},
   "outputs": [
    {
     "data": {
      "text/plain": [
       "[1, 3, 5, 7, 9, 2, 4, 6, 8, 10]"
      ]
     },
     "execution_count": 19,
     "metadata": {},
     "output_type": "execute_result"
    }
   ],
   "source": [
    "angka"
   ]
  },
  {
   "cell_type": "code",
   "execution_count": 20,
   "id": "44b305bd",
   "metadata": {},
   "outputs": [],
   "source": [
    "bilangans = [ganjil, genap]"
   ]
  },
  {
   "cell_type": "code",
   "execution_count": 21,
   "id": "dc2a7d8e",
   "metadata": {},
   "outputs": [
    {
     "data": {
      "text/plain": [
       "[[1, 3, 5, 7, 9], [2, 4, 6, 8, 10]]"
      ]
     },
     "execution_count": 21,
     "metadata": {},
     "output_type": "execute_result"
    }
   ],
   "source": [
    "bilangans"
   ]
  },
  {
   "cell_type": "code",
   "execution_count": 24,
   "id": "2ed80a36",
   "metadata": {},
   "outputs": [
    {
     "name": "stdout",
     "output_type": "stream",
     "text": [
      "[1, 3, 5, 7, 9]\n",
      "1\n",
      "3\n",
      "5\n",
      "7\n",
      "9\n",
      "[2, 4, 6, 8, 10]\n",
      "2\n",
      "4\n",
      "6\n",
      "8\n",
      "10\n"
     ]
    }
   ],
   "source": [
    "for bilangan in bilangans : \n",
    "    print(bilangan)\n",
    "    \n",
    "    for item in bilangan:\n",
    "        print(item)"
   ]
  },
  {
   "cell_type": "code",
   "execution_count": null,
   "id": "5ddfb1df",
   "metadata": {},
   "outputs": [],
   "source": []
  },
  {
   "cell_type": "code",
   "execution_count": null,
   "id": "2518d888",
   "metadata": {},
   "outputs": [],
   "source": []
  }
 ],
 "metadata": {
  "kernelspec": {
   "display_name": "Python 3 (ipykernel)",
   "language": "python",
   "name": "python3"
  },
  "language_info": {
   "codemirror_mode": {
    "name": "ipython",
    "version": 3
   },
   "file_extension": ".py",
   "mimetype": "text/x-python",
   "name": "python",
   "nbconvert_exporter": "python",
   "pygments_lexer": "ipython3",
   "version": "3.9.13"
  }
 },
 "nbformat": 4,
 "nbformat_minor": 5
}
